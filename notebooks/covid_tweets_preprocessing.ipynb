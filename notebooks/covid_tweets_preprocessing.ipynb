{
 "cells": [
  {
   "cell_type": "code",
   "execution_count": 12,
   "metadata": {
    "collapsed": true
   },
   "outputs": [],
   "source": [
    "import pandas as pd\n",
    "import textcleaning"
   ]
  },
  {
   "cell_type": "markdown",
   "source": [
    "Wczytanie danych i połączenie w jedej zbiór"
   ],
   "metadata": {
    "collapsed": false
   }
  },
  {
   "cell_type": "code",
   "execution_count": 16,
   "outputs": [
    {
     "data": {
      "text/plain": "                   label                                              tweet\n0                Neutral  @MeNyrbie @Phil_Gahan @Chrisitv https://t.co/i...\n1               Positive  advice Talk to your neighbours family to excha...\n2               Positive  Coronavirus Australia: Woolworths to give elde...\n3               Positive  My food stock is not the only one which is emp...\n4     Extremely Negative  Me, ready to go at supermarket during the #COV...\n...                  ...                                                ...\n3793            Positive  Meanwhile In A Supermarket in Israel -- People...\n3794            Negative  Did you panic buy a lot of non-perishable item...\n3795             Neutral  Asst Prof of Economics @cconces was on @NBCPhi...\n3796  Extremely Negative  Gov need to do somethings instead of biar je r...\n3797  Extremely Positive  I and @ForestandPaper members are committed to...\n\n[44955 rows x 2 columns]",
      "text/html": "<div>\n<style scoped>\n    .dataframe tbody tr th:only-of-type {\n        vertical-align: middle;\n    }\n\n    .dataframe tbody tr th {\n        vertical-align: top;\n    }\n\n    .dataframe thead th {\n        text-align: right;\n    }\n</style>\n<table border=\"1\" class=\"dataframe\">\n  <thead>\n    <tr style=\"text-align: right;\">\n      <th></th>\n      <th>label</th>\n      <th>tweet</th>\n    </tr>\n  </thead>\n  <tbody>\n    <tr>\n      <th>0</th>\n      <td>Neutral</td>\n      <td>@MeNyrbie @Phil_Gahan @Chrisitv https://t.co/i...</td>\n    </tr>\n    <tr>\n      <th>1</th>\n      <td>Positive</td>\n      <td>advice Talk to your neighbours family to excha...</td>\n    </tr>\n    <tr>\n      <th>2</th>\n      <td>Positive</td>\n      <td>Coronavirus Australia: Woolworths to give elde...</td>\n    </tr>\n    <tr>\n      <th>3</th>\n      <td>Positive</td>\n      <td>My food stock is not the only one which is emp...</td>\n    </tr>\n    <tr>\n      <th>4</th>\n      <td>Extremely Negative</td>\n      <td>Me, ready to go at supermarket during the #COV...</td>\n    </tr>\n    <tr>\n      <th>...</th>\n      <td>...</td>\n      <td>...</td>\n    </tr>\n    <tr>\n      <th>3793</th>\n      <td>Positive</td>\n      <td>Meanwhile In A Supermarket in Israel -- People...</td>\n    </tr>\n    <tr>\n      <th>3794</th>\n      <td>Negative</td>\n      <td>Did you panic buy a lot of non-perishable item...</td>\n    </tr>\n    <tr>\n      <th>3795</th>\n      <td>Neutral</td>\n      <td>Asst Prof of Economics @cconces was on @NBCPhi...</td>\n    </tr>\n    <tr>\n      <th>3796</th>\n      <td>Extremely Negative</td>\n      <td>Gov need to do somethings instead of biar je r...</td>\n    </tr>\n    <tr>\n      <th>3797</th>\n      <td>Extremely Positive</td>\n      <td>I and @ForestandPaper members are committed to...</td>\n    </tr>\n  </tbody>\n</table>\n<p>44955 rows × 2 columns</p>\n</div>"
     },
     "execution_count": 16,
     "metadata": {},
     "output_type": "execute_result"
    }
   ],
   "source": [
    "tweets_train = pd.read_csv('../datasets/Covid Tweets/Corona_NLP_train.csv', encoding='latin1')\n",
    "tweets_test = pd.read_csv('../datasets/Covid Tweets/Corona_NLP_test.csv', encoding='latin1')\n",
    "tweets = pd.concat([tweets_train, tweets_test])\n",
    "tweets['label'] = tweets['Sentiment']\n",
    "tweets['tweet'] = tweets['OriginalTweet']\n",
    "tweets = tweets[['label', 'tweet']]\n",
    "tweets"
   ],
   "metadata": {
    "collapsed": false,
    "pycharm": {
     "name": "#%%\n"
    }
   }
  },
  {
   "cell_type": "markdown",
   "source": [
    "Zakodowanie etykiet"
   ],
   "metadata": {
    "collapsed": false
   }
  },
  {
   "cell_type": "code",
   "execution_count": 18,
   "outputs": [
    {
     "data": {
      "text/plain": "      label                                              tweet\n0         2  @MeNyrbie @Phil_Gahan @Chrisitv https://t.co/i...\n1         3  advice Talk to your neighbours family to excha...\n2         3  Coronavirus Australia: Woolworths to give elde...\n3         3  My food stock is not the only one which is emp...\n4         0  Me, ready to go at supermarket during the #COV...\n...     ...                                                ...\n3793      3  Meanwhile In A Supermarket in Israel -- People...\n3794      1  Did you panic buy a lot of non-perishable item...\n3795      2  Asst Prof of Economics @cconces was on @NBCPhi...\n3796      0  Gov need to do somethings instead of biar je r...\n3797      4  I and @ForestandPaper members are committed to...\n\n[44955 rows x 2 columns]",
      "text/html": "<div>\n<style scoped>\n    .dataframe tbody tr th:only-of-type {\n        vertical-align: middle;\n    }\n\n    .dataframe tbody tr th {\n        vertical-align: top;\n    }\n\n    .dataframe thead th {\n        text-align: right;\n    }\n</style>\n<table border=\"1\" class=\"dataframe\">\n  <thead>\n    <tr style=\"text-align: right;\">\n      <th></th>\n      <th>label</th>\n      <th>tweet</th>\n    </tr>\n  </thead>\n  <tbody>\n    <tr>\n      <th>0</th>\n      <td>2</td>\n      <td>@MeNyrbie @Phil_Gahan @Chrisitv https://t.co/i...</td>\n    </tr>\n    <tr>\n      <th>1</th>\n      <td>3</td>\n      <td>advice Talk to your neighbours family to excha...</td>\n    </tr>\n    <tr>\n      <th>2</th>\n      <td>3</td>\n      <td>Coronavirus Australia: Woolworths to give elde...</td>\n    </tr>\n    <tr>\n      <th>3</th>\n      <td>3</td>\n      <td>My food stock is not the only one which is emp...</td>\n    </tr>\n    <tr>\n      <th>4</th>\n      <td>0</td>\n      <td>Me, ready to go at supermarket during the #COV...</td>\n    </tr>\n    <tr>\n      <th>...</th>\n      <td>...</td>\n      <td>...</td>\n    </tr>\n    <tr>\n      <th>3793</th>\n      <td>3</td>\n      <td>Meanwhile In A Supermarket in Israel -- People...</td>\n    </tr>\n    <tr>\n      <th>3794</th>\n      <td>1</td>\n      <td>Did you panic buy a lot of non-perishable item...</td>\n    </tr>\n    <tr>\n      <th>3795</th>\n      <td>2</td>\n      <td>Asst Prof of Economics @cconces was on @NBCPhi...</td>\n    </tr>\n    <tr>\n      <th>3796</th>\n      <td>0</td>\n      <td>Gov need to do somethings instead of biar je r...</td>\n    </tr>\n    <tr>\n      <th>3797</th>\n      <td>4</td>\n      <td>I and @ForestandPaper members are committed to...</td>\n    </tr>\n  </tbody>\n</table>\n<p>44955 rows × 2 columns</p>\n</div>"
     },
     "execution_count": 18,
     "metadata": {},
     "output_type": "execute_result"
    }
   ],
   "source": [
    "tweets['label'] = tweets['label'].map({ 'Extremely Negative': 0, 'Negative': 1, 'Neutral': 2, 'Positive': 3, 'Extremely Positive': 4 })\n",
    "tweets"
   ],
   "metadata": {
    "collapsed": false,
    "pycharm": {
     "name": "#%%\n"
    }
   }
  },
  {
   "cell_type": "markdown",
   "source": [
    "Czyszczenie danych"
   ],
   "metadata": {
    "collapsed": false
   }
  },
  {
   "cell_type": "code",
   "execution_count": 19,
   "outputs": [
    {
     "data": {
      "text/plain": "   label                                              tweet  \\\n0      2  @MeNyrbie @Phil_Gahan @Chrisitv https://t.co/i...   \n1      3  advice Talk to your neighbours family to excha...   \n2      3  Coronavirus Australia: Woolworths to give elde...   \n3      3  My food stock is not the only one which is emp...   \n4      0  Me, ready to go at supermarket during the #COV...   \n\n                                  tweet_clean_tokens  \n0                     [menyrbi, philgahan, chrisitv]  \n1  [advic, talk, neighbour, famili, exchang, phon...  \n2  [coronavirus, australia, woolworth, give, elde...  \n3  [food, stock, empti, pleas, dont, panic, enoug...  \n4  [readi, go, supermarket, outbreak, paranoid, f...  ",
      "text/html": "<div>\n<style scoped>\n    .dataframe tbody tr th:only-of-type {\n        vertical-align: middle;\n    }\n\n    .dataframe tbody tr th {\n        vertical-align: top;\n    }\n\n    .dataframe thead th {\n        text-align: right;\n    }\n</style>\n<table border=\"1\" class=\"dataframe\">\n  <thead>\n    <tr style=\"text-align: right;\">\n      <th></th>\n      <th>label</th>\n      <th>tweet</th>\n      <th>tweet_clean_tokens</th>\n    </tr>\n  </thead>\n  <tbody>\n    <tr>\n      <th>0</th>\n      <td>2</td>\n      <td>@MeNyrbie @Phil_Gahan @Chrisitv https://t.co/i...</td>\n      <td>[menyrbi, philgahan, chrisitv]</td>\n    </tr>\n    <tr>\n      <th>1</th>\n      <td>3</td>\n      <td>advice Talk to your neighbours family to excha...</td>\n      <td>[advic, talk, neighbour, famili, exchang, phon...</td>\n    </tr>\n    <tr>\n      <th>2</th>\n      <td>3</td>\n      <td>Coronavirus Australia: Woolworths to give elde...</td>\n      <td>[coronavirus, australia, woolworth, give, elde...</td>\n    </tr>\n    <tr>\n      <th>3</th>\n      <td>3</td>\n      <td>My food stock is not the only one which is emp...</td>\n      <td>[food, stock, empti, pleas, dont, panic, enoug...</td>\n    </tr>\n    <tr>\n      <th>4</th>\n      <td>0</td>\n      <td>Me, ready to go at supermarket during the #COV...</td>\n      <td>[readi, go, supermarket, outbreak, paranoid, f...</td>\n    </tr>\n  </tbody>\n</table>\n</div>"
     },
     "execution_count": 19,
     "metadata": {},
     "output_type": "execute_result"
    }
   ],
   "source": [
    "tweets['tweet_clean_tokens'] = tweets['tweet'].apply(textcleaning.clean_text_and_return_tokens)\n",
    "tweets.head()"
   ],
   "metadata": {
    "collapsed": false,
    "pycharm": {
     "name": "#%%\n"
    }
   }
  },
  {
   "cell_type": "code",
   "execution_count": 21,
   "outputs": [
    {
     "data": {
      "text/plain": "   label                                              tweet  \\\n0      2  @MeNyrbie @Phil_Gahan @Chrisitv https://t.co/i...   \n1      3  advice Talk to your neighbours family to excha...   \n2      3  Coronavirus Australia: Woolworths to give elde...   \n3      3  My food stock is not the only one which is emp...   \n4      0  Me, ready to go at supermarket during the #COV...   \n\n                                  tweet_clean_tokens  \\\n0                     [menyrbi, philgahan, chrisitv]   \n1  [advic, talk, neighbour, famili, exchang, phon...   \n2  [coronavirus, australia, woolworth, give, elde...   \n3  [food, stock, empti, pleas, dont, panic, enoug...   \n4  [readi, go, supermarket, outbreak, paranoid, f...   \n\n                                         tweet_clean  \n0                         menyrbi philgahan chrisitv  \n1  advic talk neighbour famili exchang phone numb...  \n2  coronavirus australia woolworth give elder dis...  \n3  food stock empti pleas dont panic enough food ...  \n4  readi go supermarket outbreak paranoid food st...  ",
      "text/html": "<div>\n<style scoped>\n    .dataframe tbody tr th:only-of-type {\n        vertical-align: middle;\n    }\n\n    .dataframe tbody tr th {\n        vertical-align: top;\n    }\n\n    .dataframe thead th {\n        text-align: right;\n    }\n</style>\n<table border=\"1\" class=\"dataframe\">\n  <thead>\n    <tr style=\"text-align: right;\">\n      <th></th>\n      <th>label</th>\n      <th>tweet</th>\n      <th>tweet_clean_tokens</th>\n      <th>tweet_clean</th>\n    </tr>\n  </thead>\n  <tbody>\n    <tr>\n      <th>0</th>\n      <td>2</td>\n      <td>@MeNyrbie @Phil_Gahan @Chrisitv https://t.co/i...</td>\n      <td>[menyrbi, philgahan, chrisitv]</td>\n      <td>menyrbi philgahan chrisitv</td>\n    </tr>\n    <tr>\n      <th>1</th>\n      <td>3</td>\n      <td>advice Talk to your neighbours family to excha...</td>\n      <td>[advic, talk, neighbour, famili, exchang, phon...</td>\n      <td>advic talk neighbour famili exchang phone numb...</td>\n    </tr>\n    <tr>\n      <th>2</th>\n      <td>3</td>\n      <td>Coronavirus Australia: Woolworths to give elde...</td>\n      <td>[coronavirus, australia, woolworth, give, elde...</td>\n      <td>coronavirus australia woolworth give elder dis...</td>\n    </tr>\n    <tr>\n      <th>3</th>\n      <td>3</td>\n      <td>My food stock is not the only one which is emp...</td>\n      <td>[food, stock, empti, pleas, dont, panic, enoug...</td>\n      <td>food stock empti pleas dont panic enough food ...</td>\n    </tr>\n    <tr>\n      <th>4</th>\n      <td>0</td>\n      <td>Me, ready to go at supermarket during the #COV...</td>\n      <td>[readi, go, supermarket, outbreak, paranoid, f...</td>\n      <td>readi go supermarket outbreak paranoid food st...</td>\n    </tr>\n  </tbody>\n</table>\n</div>"
     },
     "execution_count": 21,
     "metadata": {},
     "output_type": "execute_result"
    }
   ],
   "source": [
    "tweets['tweet_clean'] = tweets['tweet_clean_tokens'].apply(lambda tokens: ' '.join(tokens))\n",
    "tweets.head()"
   ],
   "metadata": {
    "collapsed": false,
    "pycharm": {
     "name": "#%%\n"
    }
   }
  },
  {
   "cell_type": "code",
   "execution_count": 22,
   "outputs": [
    {
     "data": {
      "text/plain": "   label                                              tweet  \\\n0      2  @MeNyrbie @Phil_Gahan @Chrisitv https://t.co/i...   \n1      3  advice Talk to your neighbours family to excha...   \n2      3  Coronavirus Australia: Woolworths to give elde...   \n3      3  My food stock is not the only one which is emp...   \n4      0  Me, ready to go at supermarket during the #COV...   \n\n                                  tweet_clean_tokens  \\\n0                     [menyrbi, philgahan, chrisitv]   \n1  [advic, talk, neighbour, famili, exchang, phon...   \n2  [coronavirus, australia, woolworth, give, elde...   \n3  [food, stock, empti, pleas, dont, panic, enoug...   \n4  [readi, go, supermarket, outbreak, paranoid, f...   \n\n                                         tweet_clean  length  \n0                         menyrbi philgahan chrisitv      26  \n1  advic talk neighbour famili exchang phone numb...     174  \n2  coronavirus australia woolworth give elder dis...      79  \n3  food stock empti pleas dont panic enough food ...     128  \n4  readi go supermarket outbreak paranoid food st...     164  ",
      "text/html": "<div>\n<style scoped>\n    .dataframe tbody tr th:only-of-type {\n        vertical-align: middle;\n    }\n\n    .dataframe tbody tr th {\n        vertical-align: top;\n    }\n\n    .dataframe thead th {\n        text-align: right;\n    }\n</style>\n<table border=\"1\" class=\"dataframe\">\n  <thead>\n    <tr style=\"text-align: right;\">\n      <th></th>\n      <th>label</th>\n      <th>tweet</th>\n      <th>tweet_clean_tokens</th>\n      <th>tweet_clean</th>\n      <th>length</th>\n    </tr>\n  </thead>\n  <tbody>\n    <tr>\n      <th>0</th>\n      <td>2</td>\n      <td>@MeNyrbie @Phil_Gahan @Chrisitv https://t.co/i...</td>\n      <td>[menyrbi, philgahan, chrisitv]</td>\n      <td>menyrbi philgahan chrisitv</td>\n      <td>26</td>\n    </tr>\n    <tr>\n      <th>1</th>\n      <td>3</td>\n      <td>advice Talk to your neighbours family to excha...</td>\n      <td>[advic, talk, neighbour, famili, exchang, phon...</td>\n      <td>advic talk neighbour famili exchang phone numb...</td>\n      <td>174</td>\n    </tr>\n    <tr>\n      <th>2</th>\n      <td>3</td>\n      <td>Coronavirus Australia: Woolworths to give elde...</td>\n      <td>[coronavirus, australia, woolworth, give, elde...</td>\n      <td>coronavirus australia woolworth give elder dis...</td>\n      <td>79</td>\n    </tr>\n    <tr>\n      <th>3</th>\n      <td>3</td>\n      <td>My food stock is not the only one which is emp...</td>\n      <td>[food, stock, empti, pleas, dont, panic, enoug...</td>\n      <td>food stock empti pleas dont panic enough food ...</td>\n      <td>128</td>\n    </tr>\n    <tr>\n      <th>4</th>\n      <td>0</td>\n      <td>Me, ready to go at supermarket during the #COV...</td>\n      <td>[readi, go, supermarket, outbreak, paranoid, f...</td>\n      <td>readi go supermarket outbreak paranoid food st...</td>\n      <td>164</td>\n    </tr>\n  </tbody>\n</table>\n</div>"
     },
     "execution_count": 22,
     "metadata": {},
     "output_type": "execute_result"
    }
   ],
   "source": [
    "tweets['length'] = tweets['tweet_clean'].apply(len)\n",
    "tweets.head()"
   ],
   "metadata": {
    "collapsed": false,
    "pycharm": {
     "name": "#%%\n"
    }
   }
  },
  {
   "cell_type": "markdown",
   "source": [
    "Zapisanie wyczyszconych danych"
   ],
   "metadata": {
    "collapsed": false
   }
  },
  {
   "cell_type": "code",
   "execution_count": 23,
   "outputs": [
    {
     "data": {
      "text/plain": "      label                                              tweet  \\\n0         2  @MeNyrbie @Phil_Gahan @Chrisitv https://t.co/i...   \n1         3  advice Talk to your neighbours family to excha...   \n2         3  Coronavirus Australia: Woolworths to give elde...   \n3         3  My food stock is not the only one which is emp...   \n4         0  Me, ready to go at supermarket during the #COV...   \n...     ...                                                ...   \n3793      3  Meanwhile In A Supermarket in Israel -- People...   \n3794      1  Did you panic buy a lot of non-perishable item...   \n3795      2  Asst Prof of Economics @cconces was on @NBCPhi...   \n3796      0  Gov need to do somethings instead of biar je r...   \n3797      4  I and @ForestandPaper members are committed to...   \n\n                                     tweet_clean_tokens  \\\n0                        [menyrbi, philgahan, chrisitv]   \n1     [advic, talk, neighbour, famili, exchang, phon...   \n2     [coronavirus, australia, woolworth, give, elde...   \n3     [food, stock, empti, pleas, dont, panic, enoug...   \n4     [readi, go, supermarket, outbreak, paranoid, f...   \n...                                                 ...   \n3793  [meanwhil, supermarket, israel, peopl, danc, s...   \n3794  [panic, buy, lot, nonperish, item, echo, need,...   \n3795  [asst, prof, econom, cconc, nbcphiladelphia, t...   \n3796  [gov, need, someth, instead, biar, rakyat, ass...   \n3797  [forestandpap, member, commit, safeti, employe...   \n\n                                            tweet_clean  length  \n0                            menyrbi philgahan chrisitv      26  \n1     advic talk neighbour famili exchang phone numb...     174  \n2     coronavirus australia woolworth give elder dis...      79  \n3     food stock empti pleas dont panic enough food ...     128  \n4     readi go supermarket outbreak paranoid food st...     164  \n...                                                 ...     ...  \n3793  meanwhil supermarket israel peopl danc sing to...      73  \n3794  panic buy lot nonperish item echo need food do...      94  \n3795  asst prof econom cconc nbcphiladelphia talk re...      98  \n3796  gov need someth instead biar rakyat assum lock...     117  \n3797  forestandpap member commit safeti employe endu...     111  \n\n[44955 rows x 5 columns]",
      "text/html": "<div>\n<style scoped>\n    .dataframe tbody tr th:only-of-type {\n        vertical-align: middle;\n    }\n\n    .dataframe tbody tr th {\n        vertical-align: top;\n    }\n\n    .dataframe thead th {\n        text-align: right;\n    }\n</style>\n<table border=\"1\" class=\"dataframe\">\n  <thead>\n    <tr style=\"text-align: right;\">\n      <th></th>\n      <th>label</th>\n      <th>tweet</th>\n      <th>tweet_clean_tokens</th>\n      <th>tweet_clean</th>\n      <th>length</th>\n    </tr>\n  </thead>\n  <tbody>\n    <tr>\n      <th>0</th>\n      <td>2</td>\n      <td>@MeNyrbie @Phil_Gahan @Chrisitv https://t.co/i...</td>\n      <td>[menyrbi, philgahan, chrisitv]</td>\n      <td>menyrbi philgahan chrisitv</td>\n      <td>26</td>\n    </tr>\n    <tr>\n      <th>1</th>\n      <td>3</td>\n      <td>advice Talk to your neighbours family to excha...</td>\n      <td>[advic, talk, neighbour, famili, exchang, phon...</td>\n      <td>advic talk neighbour famili exchang phone numb...</td>\n      <td>174</td>\n    </tr>\n    <tr>\n      <th>2</th>\n      <td>3</td>\n      <td>Coronavirus Australia: Woolworths to give elde...</td>\n      <td>[coronavirus, australia, woolworth, give, elde...</td>\n      <td>coronavirus australia woolworth give elder dis...</td>\n      <td>79</td>\n    </tr>\n    <tr>\n      <th>3</th>\n      <td>3</td>\n      <td>My food stock is not the only one which is emp...</td>\n      <td>[food, stock, empti, pleas, dont, panic, enoug...</td>\n      <td>food stock empti pleas dont panic enough food ...</td>\n      <td>128</td>\n    </tr>\n    <tr>\n      <th>4</th>\n      <td>0</td>\n      <td>Me, ready to go at supermarket during the #COV...</td>\n      <td>[readi, go, supermarket, outbreak, paranoid, f...</td>\n      <td>readi go supermarket outbreak paranoid food st...</td>\n      <td>164</td>\n    </tr>\n    <tr>\n      <th>...</th>\n      <td>...</td>\n      <td>...</td>\n      <td>...</td>\n      <td>...</td>\n      <td>...</td>\n    </tr>\n    <tr>\n      <th>3793</th>\n      <td>3</td>\n      <td>Meanwhile In A Supermarket in Israel -- People...</td>\n      <td>[meanwhil, supermarket, israel, peopl, danc, s...</td>\n      <td>meanwhil supermarket israel peopl danc sing to...</td>\n      <td>73</td>\n    </tr>\n    <tr>\n      <th>3794</th>\n      <td>1</td>\n      <td>Did you panic buy a lot of non-perishable item...</td>\n      <td>[panic, buy, lot, nonperish, item, echo, need,...</td>\n      <td>panic buy lot nonperish item echo need food do...</td>\n      <td>94</td>\n    </tr>\n    <tr>\n      <th>3795</th>\n      <td>2</td>\n      <td>Asst Prof of Economics @cconces was on @NBCPhi...</td>\n      <td>[asst, prof, econom, cconc, nbcphiladelphia, t...</td>\n      <td>asst prof econom cconc nbcphiladelphia talk re...</td>\n      <td>98</td>\n    </tr>\n    <tr>\n      <th>3796</th>\n      <td>0</td>\n      <td>Gov need to do somethings instead of biar je r...</td>\n      <td>[gov, need, someth, instead, biar, rakyat, ass...</td>\n      <td>gov need someth instead biar rakyat assum lock...</td>\n      <td>117</td>\n    </tr>\n    <tr>\n      <th>3797</th>\n      <td>4</td>\n      <td>I and @ForestandPaper members are committed to...</td>\n      <td>[forestandpap, member, commit, safeti, employe...</td>\n      <td>forestandpap member commit safeti employe endu...</td>\n      <td>111</td>\n    </tr>\n  </tbody>\n</table>\n<p>44955 rows × 5 columns</p>\n</div>"
     },
     "execution_count": 23,
     "metadata": {},
     "output_type": "execute_result"
    }
   ],
   "source": [
    "tweets.to_csv('../cleaned_datasets/covid_tweets.csv', sep='\\t', index=False, encoding='utf-8')\n",
    "tweets"
   ],
   "metadata": {
    "collapsed": false,
    "pycharm": {
     "name": "#%%\n"
    }
   }
  }
 ],
 "metadata": {
  "kernelspec": {
   "display_name": "Python 3",
   "language": "python",
   "name": "python3"
  },
  "language_info": {
   "codemirror_mode": {
    "name": "ipython",
    "version": 2
   },
   "file_extension": ".py",
   "mimetype": "text/x-python",
   "name": "python",
   "nbconvert_exporter": "python",
   "pygments_lexer": "ipython2",
   "version": "2.7.6"
  }
 },
 "nbformat": 4,
 "nbformat_minor": 0
}