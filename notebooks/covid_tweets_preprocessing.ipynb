{
 "cells": [
  {
   "cell_type": "code",
   "execution_count": 2,
   "metadata": {
    "collapsed": true
   },
   "outputs": [],
   "source": [
    "import pandas as pd\n",
    "from sklearn.preprocessing import LabelEncoder\n",
    "import textcleaning"
   ]
  },
  {
   "cell_type": "markdown",
   "source": [
    "Wczytanie danych"
   ],
   "metadata": {
    "collapsed": false
   }
  },
  {
   "cell_type": "code",
   "execution_count": 4,
   "outputs": [
    {
     "data": {
      "text/plain": "                   label                                              tweet\n0                Neutral  @MeNyrbie @Phil_Gahan @Chrisitv https://t.co/i...\n1               Positive  advice Talk to your neighbours family to excha...\n2               Positive  Coronavirus Australia: Woolworths to give elde...\n3               Positive  My food stock is not the only one which is emp...\n4     Extremely Negative  Me, ready to go at supermarket during the #COV...\n...                  ...                                                ...\n3793            Positive  Meanwhile In A Supermarket in Israel -- People...\n3794            Negative  Did you panic buy a lot of non-perishable item...\n3795             Neutral  Asst Prof of Economics @cconces was on @NBCPhi...\n3796  Extremely Negative  Gov need to do somethings instead of biar je r...\n3797  Extremely Positive  I and @ForestandPaper members are committed to...\n\n[44955 rows x 2 columns]",
      "text/html": "<div>\n<style scoped>\n    .dataframe tbody tr th:only-of-type {\n        vertical-align: middle;\n    }\n\n    .dataframe tbody tr th {\n        vertical-align: top;\n    }\n\n    .dataframe thead tr th {\n        text-align: left;\n    }\n</style>\n<table border=\"1\" class=\"dataframe\">\n  <thead>\n    <tr>\n      <th></th>\n      <th>label</th>\n      <th>tweet</th>\n    </tr>\n  </thead>\n  <tbody>\n    <tr>\n      <th>0</th>\n      <td>Neutral</td>\n      <td>@MeNyrbie @Phil_Gahan @Chrisitv https://t.co/i...</td>\n    </tr>\n    <tr>\n      <th>1</th>\n      <td>Positive</td>\n      <td>advice Talk to your neighbours family to excha...</td>\n    </tr>\n    <tr>\n      <th>2</th>\n      <td>Positive</td>\n      <td>Coronavirus Australia: Woolworths to give elde...</td>\n    </tr>\n    <tr>\n      <th>3</th>\n      <td>Positive</td>\n      <td>My food stock is not the only one which is emp...</td>\n    </tr>\n    <tr>\n      <th>4</th>\n      <td>Extremely Negative</td>\n      <td>Me, ready to go at supermarket during the #COV...</td>\n    </tr>\n    <tr>\n      <th>...</th>\n      <td>...</td>\n      <td>...</td>\n    </tr>\n    <tr>\n      <th>3793</th>\n      <td>Positive</td>\n      <td>Meanwhile In A Supermarket in Israel -- People...</td>\n    </tr>\n    <tr>\n      <th>3794</th>\n      <td>Negative</td>\n      <td>Did you panic buy a lot of non-perishable item...</td>\n    </tr>\n    <tr>\n      <th>3795</th>\n      <td>Neutral</td>\n      <td>Asst Prof of Economics @cconces was on @NBCPhi...</td>\n    </tr>\n    <tr>\n      <th>3796</th>\n      <td>Extremely Negative</td>\n      <td>Gov need to do somethings instead of biar je r...</td>\n    </tr>\n    <tr>\n      <th>3797</th>\n      <td>Extremely Positive</td>\n      <td>I and @ForestandPaper members are committed to...</td>\n    </tr>\n  </tbody>\n</table>\n<p>44955 rows × 2 columns</p>\n</div>"
     },
     "execution_count": 4,
     "metadata": {},
     "output_type": "execute_result"
    }
   ],
   "source": [
    "tweets_train = pd.read_csv('../datasets/Covid Tweets/Corona_NLP_train.csv', encoding='latin1')\n",
    "tweets_test = pd.read_csv('../datasets/Covid Tweets/Corona_NLP_test.csv', encoding='latin1')\n",
    "tweets = pd.concat([tweets_train, tweets_test])\n",
    "tweets = tweets[['Sentiment', 'OriginalTweet']]\n",
    "tweets.columns = [['label', 'tweet']]\n",
    "tweets"
   ],
   "metadata": {
    "collapsed": false,
    "pycharm": {
     "name": "#%%\n"
    }
   }
  },
  {
   "cell_type": "code",
   "execution_count": 126,
   "outputs": [
    {
     "data": {
      "text/plain": "0       @MeNyrbie @Phil_Gahan @Chrisitv https://t.co/i...\n1       advice Talk to your neighbours family to excha...\n2       Coronavirus Australia: Woolworths to give elde...\n3       My food stock is not the only one which is emp...\n4       Me, ready to go at supermarket during the #COV...\n                              ...                        \n3793    Meanwhile In A Supermarket in Israel -- People...\n3794    Did you panic buy a lot of non-perishable item...\n3795    Asst Prof of Economics @cconces was on @NBCPhi...\n3796    Gov need to do somethings instead of biar je r...\n3797    I and @ForestandPaper members are committed to...\nName: (tweet,), Length: 44955, dtype: object"
     },
     "execution_count": 126,
     "metadata": {},
     "output_type": "execute_result"
    }
   ],
   "source": [
    "# tweets = tweets.reindex()\n",
    "# print(type(tweets['tweet']))\n",
    "# tweets['tweet'].apply(len)\n",
    "\n",
    "tweet_dataframe = tweets['tweet']\n",
    "x = tweet_dataframe.iloc[:,0]\n",
    "x"
   ],
   "metadata": {
    "collapsed": false,
    "pycharm": {
     "name": "#%%\n"
    }
   }
  }
 ],
 "metadata": {
  "kernelspec": {
   "display_name": "Python 3",
   "language": "python",
   "name": "python3"
  },
  "language_info": {
   "codemirror_mode": {
    "name": "ipython",
    "version": 2
   },
   "file_extension": ".py",
   "mimetype": "text/x-python",
   "name": "python",
   "nbconvert_exporter": "python",
   "pygments_lexer": "ipython2",
   "version": "2.7.6"
  }
 },
 "nbformat": 4,
 "nbformat_minor": 0
}