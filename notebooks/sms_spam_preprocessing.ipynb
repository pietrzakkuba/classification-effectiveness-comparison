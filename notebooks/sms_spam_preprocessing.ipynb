{
 "cells": [
  {
   "cell_type": "markdown",
   "source": [
    "Importy"
   ],
   "metadata": {
    "collapsed": false
   }
  },
  {
   "cell_type": "code",
   "execution_count": 4,
   "metadata": {
    "collapsed": true
   },
   "outputs": [],
   "source": [
    "import pandas as pd\n",
    "from sklearn.preprocessing import LabelEncoder\n",
    "import textcleaning"
   ]
  },
  {
   "cell_type": "markdown",
   "source": [],
   "metadata": {
    "collapsed": false
   }
  },
  {
   "cell_type": "markdown",
   "source": [
    "Wczytanie danych"
   ],
   "metadata": {
    "collapsed": false
   }
  },
  {
   "cell_type": "code",
   "execution_count": 5,
   "outputs": [
    {
     "data": {
      "text/plain": "       label                 message\ncount   5572                    5572\nunique     2                    5169\ntop      ham  Sorry, I'll call later\nfreq    4825                      30",
      "text/html": "<div>\n<style scoped>\n    .dataframe tbody tr th:only-of-type {\n        vertical-align: middle;\n    }\n\n    .dataframe tbody tr th {\n        vertical-align: top;\n    }\n\n    .dataframe thead th {\n        text-align: right;\n    }\n</style>\n<table border=\"1\" class=\"dataframe\">\n  <thead>\n    <tr style=\"text-align: right;\">\n      <th></th>\n      <th>label</th>\n      <th>message</th>\n    </tr>\n  </thead>\n  <tbody>\n    <tr>\n      <th>count</th>\n      <td>5572</td>\n      <td>5572</td>\n    </tr>\n    <tr>\n      <th>unique</th>\n      <td>2</td>\n      <td>5169</td>\n    </tr>\n    <tr>\n      <th>top</th>\n      <td>ham</td>\n      <td>Sorry, I'll call later</td>\n    </tr>\n    <tr>\n      <th>freq</th>\n      <td>4825</td>\n      <td>30</td>\n    </tr>\n  </tbody>\n</table>\n</div>"
     },
     "execution_count": 5,
     "metadata": {},
     "output_type": "execute_result"
    }
   ],
   "source": [
    "messages = pd.read_csv('../datasets/Spam SMS/spam.csv', encoding='latin-1')\n",
    "messages = messages.dropna(how=\"any\", axis=1)\n",
    "messages.columns = ['label', 'message']\n",
    "messages.describe()"
   ],
   "metadata": {
    "collapsed": false,
    "pycharm": {
     "name": "#%%\n"
    }
   }
  },
  {
   "cell_type": "code",
   "execution_count": 6,
   "outputs": [
    {
     "data": {
      "text/plain": "  label                                            message  length\n0   ham  Go until jurong point, crazy.. Available only ...     111\n1   ham                      Ok lar... Joking wif u oni...      29\n2  spam  Free entry in 2 a wkly comp to win FA Cup fina...     155\n3   ham  U dun say so early hor... U c already then say...      49\n4   ham  Nah I don't think he goes to usf, he lives aro...      61",
      "text/html": "<div>\n<style scoped>\n    .dataframe tbody tr th:only-of-type {\n        vertical-align: middle;\n    }\n\n    .dataframe tbody tr th {\n        vertical-align: top;\n    }\n\n    .dataframe thead th {\n        text-align: right;\n    }\n</style>\n<table border=\"1\" class=\"dataframe\">\n  <thead>\n    <tr style=\"text-align: right;\">\n      <th></th>\n      <th>label</th>\n      <th>message</th>\n      <th>length</th>\n    </tr>\n  </thead>\n  <tbody>\n    <tr>\n      <th>0</th>\n      <td>ham</td>\n      <td>Go until jurong point, crazy.. Available only ...</td>\n      <td>111</td>\n    </tr>\n    <tr>\n      <th>1</th>\n      <td>ham</td>\n      <td>Ok lar... Joking wif u oni...</td>\n      <td>29</td>\n    </tr>\n    <tr>\n      <th>2</th>\n      <td>spam</td>\n      <td>Free entry in 2 a wkly comp to win FA Cup fina...</td>\n      <td>155</td>\n    </tr>\n    <tr>\n      <th>3</th>\n      <td>ham</td>\n      <td>U dun say so early hor... U c already then say...</td>\n      <td>49</td>\n    </tr>\n    <tr>\n      <th>4</th>\n      <td>ham</td>\n      <td>Nah I don't think he goes to usf, he lives aro...</td>\n      <td>61</td>\n    </tr>\n  </tbody>\n</table>\n</div>"
     },
     "execution_count": 6,
     "metadata": {},
     "output_type": "execute_result"
    }
   ],
   "source": [
    "messages['length'] = messages['message'].apply(len)\n",
    "messages.head()"
   ],
   "metadata": {
    "collapsed": false,
    "pycharm": {
     "name": "#%%\n"
    }
   }
  },
  {
   "cell_type": "markdown",
   "source": [
    "Czyszczenie danych"
   ],
   "metadata": {
    "collapsed": false
   }
  },
  {
   "cell_type": "code",
   "execution_count": 7,
   "outputs": [
    {
     "data": {
      "text/plain": "  label                                            message  length  \\\n0   ham  Go until jurong point, crazy.. Available only ...     111   \n1   ham                      Ok lar... Joking wif u oni...      29   \n2  spam  Free entry in 2 a wkly comp to win FA Cup fina...     155   \n3   ham  U dun say so early hor... U c already then say...      49   \n4   ham  Nah I don't think he goes to usf, he lives aro...      61   \n\n                                message_clean_tokens  \n0  [go, jurong, point, crazi, avail, bugi, great,...  \n1                               [ok, lar, joke, wif]  \n2  [free, entri, wkli, comp, win, fa, cup, final,...  \n3               [dun, say, earli, hor, alreadi, say]  \n4      [dont, think, goe, usf, live, around, though]  ",
      "text/html": "<div>\n<style scoped>\n    .dataframe tbody tr th:only-of-type {\n        vertical-align: middle;\n    }\n\n    .dataframe tbody tr th {\n        vertical-align: top;\n    }\n\n    .dataframe thead th {\n        text-align: right;\n    }\n</style>\n<table border=\"1\" class=\"dataframe\">\n  <thead>\n    <tr style=\"text-align: right;\">\n      <th></th>\n      <th>label</th>\n      <th>message</th>\n      <th>length</th>\n      <th>message_clean_tokens</th>\n    </tr>\n  </thead>\n  <tbody>\n    <tr>\n      <th>0</th>\n      <td>ham</td>\n      <td>Go until jurong point, crazy.. Available only ...</td>\n      <td>111</td>\n      <td>[go, jurong, point, crazi, avail, bugi, great,...</td>\n    </tr>\n    <tr>\n      <th>1</th>\n      <td>ham</td>\n      <td>Ok lar... Joking wif u oni...</td>\n      <td>29</td>\n      <td>[ok, lar, joke, wif]</td>\n    </tr>\n    <tr>\n      <th>2</th>\n      <td>spam</td>\n      <td>Free entry in 2 a wkly comp to win FA Cup fina...</td>\n      <td>155</td>\n      <td>[free, entri, wkli, comp, win, fa, cup, final,...</td>\n    </tr>\n    <tr>\n      <th>3</th>\n      <td>ham</td>\n      <td>U dun say so early hor... U c already then say...</td>\n      <td>49</td>\n      <td>[dun, say, earli, hor, alreadi, say]</td>\n    </tr>\n    <tr>\n      <th>4</th>\n      <td>ham</td>\n      <td>Nah I don't think he goes to usf, he lives aro...</td>\n      <td>61</td>\n      <td>[dont, think, goe, usf, live, around, though]</td>\n    </tr>\n  </tbody>\n</table>\n</div>"
     },
     "execution_count": 7,
     "metadata": {},
     "output_type": "execute_result"
    }
   ],
   "source": [
    "messages['message_clean_tokens'] = messages['message'].apply(textcleaning.clean_text_and_return_tokens)\n",
    "messages.head()"
   ],
   "metadata": {
    "collapsed": false,
    "pycharm": {
     "name": "#%%\n"
    }
   }
  },
  {
   "cell_type": "code",
   "execution_count": 8,
   "outputs": [
    {
     "data": {
      "text/plain": "  label                                            message  length  \\\n0   ham  Go until jurong point, crazy.. Available only ...     111   \n1   ham                      Ok lar... Joking wif u oni...      29   \n2  spam  Free entry in 2 a wkly comp to win FA Cup fina...     155   \n3   ham  U dun say so early hor... U c already then say...      49   \n4   ham  Nah I don't think he goes to usf, he lives aro...      61   \n\n                                message_clean_tokens  \\\n0  [go, jurong, point, crazi, avail, bugi, great,...   \n1                               [ok, lar, joke, wif]   \n2  [free, entri, wkli, comp, win, fa, cup, final,...   \n3               [dun, say, earli, hor, alreadi, say]   \n4      [dont, think, goe, usf, live, around, though]   \n\n                                       message_clean  \n0  go jurong point crazi avail bugi great world b...  \n1                                    ok lar joke wif  \n2  free entri wkli comp win fa cup final tkts may...  \n3                      dun say earli hor alreadi say  \n4              dont think goe usf live around though  ",
      "text/html": "<div>\n<style scoped>\n    .dataframe tbody tr th:only-of-type {\n        vertical-align: middle;\n    }\n\n    .dataframe tbody tr th {\n        vertical-align: top;\n    }\n\n    .dataframe thead th {\n        text-align: right;\n    }\n</style>\n<table border=\"1\" class=\"dataframe\">\n  <thead>\n    <tr style=\"text-align: right;\">\n      <th></th>\n      <th>label</th>\n      <th>message</th>\n      <th>length</th>\n      <th>message_clean_tokens</th>\n      <th>message_clean</th>\n    </tr>\n  </thead>\n  <tbody>\n    <tr>\n      <th>0</th>\n      <td>ham</td>\n      <td>Go until jurong point, crazy.. Available only ...</td>\n      <td>111</td>\n      <td>[go, jurong, point, crazi, avail, bugi, great,...</td>\n      <td>go jurong point crazi avail bugi great world b...</td>\n    </tr>\n    <tr>\n      <th>1</th>\n      <td>ham</td>\n      <td>Ok lar... Joking wif u oni...</td>\n      <td>29</td>\n      <td>[ok, lar, joke, wif]</td>\n      <td>ok lar joke wif</td>\n    </tr>\n    <tr>\n      <th>2</th>\n      <td>spam</td>\n      <td>Free entry in 2 a wkly comp to win FA Cup fina...</td>\n      <td>155</td>\n      <td>[free, entri, wkli, comp, win, fa, cup, final,...</td>\n      <td>free entri wkli comp win fa cup final tkts may...</td>\n    </tr>\n    <tr>\n      <th>3</th>\n      <td>ham</td>\n      <td>U dun say so early hor... U c already then say...</td>\n      <td>49</td>\n      <td>[dun, say, earli, hor, alreadi, say]</td>\n      <td>dun say earli hor alreadi say</td>\n    </tr>\n    <tr>\n      <th>4</th>\n      <td>ham</td>\n      <td>Nah I don't think he goes to usf, he lives aro...</td>\n      <td>61</td>\n      <td>[dont, think, goe, usf, live, around, though]</td>\n      <td>dont think goe usf live around though</td>\n    </tr>\n  </tbody>\n</table>\n</div>"
     },
     "execution_count": 8,
     "metadata": {},
     "output_type": "execute_result"
    }
   ],
   "source": [
    "messages['message_clean'] = messages['message_clean_tokens'].apply(lambda tokens: ' '.join(tokens))\n",
    "messages.head()"
   ],
   "metadata": {
    "collapsed": false,
    "pycharm": {
     "name": "#%%\n"
    }
   }
  },
  {
   "cell_type": "markdown",
   "source": [
    "Zakodowanie etykiet"
   ],
   "metadata": {
    "collapsed": false
   }
  },
  {
   "cell_type": "code",
   "execution_count": 9,
   "outputs": [
    {
     "data": {
      "text/plain": "   label                                            message  length  \\\n0      0  Go until jurong point, crazy.. Available only ...     111   \n1      0                      Ok lar... Joking wif u oni...      29   \n2      1  Free entry in 2 a wkly comp to win FA Cup fina...     155   \n3      0  U dun say so early hor... U c already then say...      49   \n4      0  Nah I don't think he goes to usf, he lives aro...      61   \n\n                                message_clean_tokens  \\\n0  [go, jurong, point, crazi, avail, bugi, great,...   \n1                               [ok, lar, joke, wif]   \n2  [free, entri, wkli, comp, win, fa, cup, final,...   \n3               [dun, say, earli, hor, alreadi, say]   \n4      [dont, think, goe, usf, live, around, though]   \n\n                                       message_clean  \n0  go jurong point crazi avail bugi great world b...  \n1                                    ok lar joke wif  \n2  free entri wkli comp win fa cup final tkts may...  \n3                      dun say earli hor alreadi say  \n4              dont think goe usf live around though  ",
      "text/html": "<div>\n<style scoped>\n    .dataframe tbody tr th:only-of-type {\n        vertical-align: middle;\n    }\n\n    .dataframe tbody tr th {\n        vertical-align: top;\n    }\n\n    .dataframe thead th {\n        text-align: right;\n    }\n</style>\n<table border=\"1\" class=\"dataframe\">\n  <thead>\n    <tr style=\"text-align: right;\">\n      <th></th>\n      <th>label</th>\n      <th>message</th>\n      <th>length</th>\n      <th>message_clean_tokens</th>\n      <th>message_clean</th>\n    </tr>\n  </thead>\n  <tbody>\n    <tr>\n      <th>0</th>\n      <td>0</td>\n      <td>Go until jurong point, crazy.. Available only ...</td>\n      <td>111</td>\n      <td>[go, jurong, point, crazi, avail, bugi, great,...</td>\n      <td>go jurong point crazi avail bugi great world b...</td>\n    </tr>\n    <tr>\n      <th>1</th>\n      <td>0</td>\n      <td>Ok lar... Joking wif u oni...</td>\n      <td>29</td>\n      <td>[ok, lar, joke, wif]</td>\n      <td>ok lar joke wif</td>\n    </tr>\n    <tr>\n      <th>2</th>\n      <td>1</td>\n      <td>Free entry in 2 a wkly comp to win FA Cup fina...</td>\n      <td>155</td>\n      <td>[free, entri, wkli, comp, win, fa, cup, final,...</td>\n      <td>free entri wkli comp win fa cup final tkts may...</td>\n    </tr>\n    <tr>\n      <th>3</th>\n      <td>0</td>\n      <td>U dun say so early hor... U c already then say...</td>\n      <td>49</td>\n      <td>[dun, say, earli, hor, alreadi, say]</td>\n      <td>dun say earli hor alreadi say</td>\n    </tr>\n    <tr>\n      <th>4</th>\n      <td>0</td>\n      <td>Nah I don't think he goes to usf, he lives aro...</td>\n      <td>61</td>\n      <td>[dont, think, goe, usf, live, around, though]</td>\n      <td>dont think goe usf live around though</td>\n    </tr>\n  </tbody>\n</table>\n</div>"
     },
     "execution_count": 9,
     "metadata": {},
     "output_type": "execute_result"
    }
   ],
   "source": [
    "label_encoder = LabelEncoder()\n",
    "messages['label'] = label_encoder.fit_transform(messages['label'])\n",
    "messages.head()"
   ],
   "metadata": {
    "collapsed": false,
    "pycharm": {
     "name": "#%%\n"
    }
   }
  },
  {
   "cell_type": "markdown",
   "source": [
    "Zapisanie wyczyszczonych danych"
   ],
   "metadata": {
    "collapsed": false
   }
  },
  {
   "cell_type": "code",
   "execution_count": 20,
   "outputs": [
    {
     "data": {
      "text/plain": "      label                                            message  length  \\\n0         0  Go until jurong point, crazy.. Available only ...     111   \n1         0                      Ok lar... Joking wif u oni...      29   \n2         1  Free entry in 2 a wkly comp to win FA Cup fina...     155   \n3         0  U dun say so early hor... U c already then say...      49   \n4         0  Nah I don't think he goes to usf, he lives aro...      61   \n...     ...                                                ...     ...   \n5567      1  This is the 2nd time we have tried 2 contact u...     161   \n5568      0              Will Ì_ b going to esplanade fr home?      37   \n5569      0  Pity, * was in mood for that. So...any other s...      57   \n5570      0  The guy did some bitching but I acted like i'd...     125   \n5571      0                         Rofl. Its true to its name      26   \n\n                                   message_clean_tokens  \\\n0     [go, jurong, point, crazi, avail, bugi, great,...   \n1                                  [ok, lar, joke, wif]   \n2     [free, entri, wkli, comp, win, fa, cup, final,...   \n3                  [dun, say, earli, hor, alreadi, say]   \n4         [dont, think, goe, usf, live, around, though]   \n...                                                 ...   \n5567  [time, tri, contact, å£, pound, prize, claim, ...   \n5568                     [ì, b, go, esplanad, fr, home]   \n5569                       [piti, mood, soani, suggest]   \n5570  [guy, bitch, act, like, id, interest, buy, som...   \n5571                                       [rofl, true]   \n\n                                          message_clean  \n0     go jurong point crazi avail bugi great world b...  \n1                                       ok lar joke wif  \n2     free entri wkli comp win fa cup final tkts may...  \n3                         dun say earli hor alreadi say  \n4                 dont think goe usf live around though  \n...                                                 ...  \n5567  time tri contact å£ pound prize claim easi cal...  \n5568                            ì b go esplanad fr home  \n5569                            piti mood soani suggest  \n5570  guy bitch act like id interest buy someth els ...  \n5571                                          rofl true  \n\n[5572 rows x 5 columns]",
      "text/html": "<div>\n<style scoped>\n    .dataframe tbody tr th:only-of-type {\n        vertical-align: middle;\n    }\n\n    .dataframe tbody tr th {\n        vertical-align: top;\n    }\n\n    .dataframe thead th {\n        text-align: right;\n    }\n</style>\n<table border=\"1\" class=\"dataframe\">\n  <thead>\n    <tr style=\"text-align: right;\">\n      <th></th>\n      <th>label</th>\n      <th>message</th>\n      <th>length</th>\n      <th>message_clean_tokens</th>\n      <th>message_clean</th>\n    </tr>\n  </thead>\n  <tbody>\n    <tr>\n      <th>0</th>\n      <td>0</td>\n      <td>Go until jurong point, crazy.. Available only ...</td>\n      <td>111</td>\n      <td>[go, jurong, point, crazi, avail, bugi, great,...</td>\n      <td>go jurong point crazi avail bugi great world b...</td>\n    </tr>\n    <tr>\n      <th>1</th>\n      <td>0</td>\n      <td>Ok lar... Joking wif u oni...</td>\n      <td>29</td>\n      <td>[ok, lar, joke, wif]</td>\n      <td>ok lar joke wif</td>\n    </tr>\n    <tr>\n      <th>2</th>\n      <td>1</td>\n      <td>Free entry in 2 a wkly comp to win FA Cup fina...</td>\n      <td>155</td>\n      <td>[free, entri, wkli, comp, win, fa, cup, final,...</td>\n      <td>free entri wkli comp win fa cup final tkts may...</td>\n    </tr>\n    <tr>\n      <th>3</th>\n      <td>0</td>\n      <td>U dun say so early hor... U c already then say...</td>\n      <td>49</td>\n      <td>[dun, say, earli, hor, alreadi, say]</td>\n      <td>dun say earli hor alreadi say</td>\n    </tr>\n    <tr>\n      <th>4</th>\n      <td>0</td>\n      <td>Nah I don't think he goes to usf, he lives aro...</td>\n      <td>61</td>\n      <td>[dont, think, goe, usf, live, around, though]</td>\n      <td>dont think goe usf live around though</td>\n    </tr>\n    <tr>\n      <th>...</th>\n      <td>...</td>\n      <td>...</td>\n      <td>...</td>\n      <td>...</td>\n      <td>...</td>\n    </tr>\n    <tr>\n      <th>5567</th>\n      <td>1</td>\n      <td>This is the 2nd time we have tried 2 contact u...</td>\n      <td>161</td>\n      <td>[time, tri, contact, å£, pound, prize, claim, ...</td>\n      <td>time tri contact å£ pound prize claim easi cal...</td>\n    </tr>\n    <tr>\n      <th>5568</th>\n      <td>0</td>\n      <td>Will Ì_ b going to esplanade fr home?</td>\n      <td>37</td>\n      <td>[ì, b, go, esplanad, fr, home]</td>\n      <td>ì b go esplanad fr home</td>\n    </tr>\n    <tr>\n      <th>5569</th>\n      <td>0</td>\n      <td>Pity, * was in mood for that. So...any other s...</td>\n      <td>57</td>\n      <td>[piti, mood, soani, suggest]</td>\n      <td>piti mood soani suggest</td>\n    </tr>\n    <tr>\n      <th>5570</th>\n      <td>0</td>\n      <td>The guy did some bitching but I acted like i'd...</td>\n      <td>125</td>\n      <td>[guy, bitch, act, like, id, interest, buy, som...</td>\n      <td>guy bitch act like id interest buy someth els ...</td>\n    </tr>\n    <tr>\n      <th>5571</th>\n      <td>0</td>\n      <td>Rofl. Its true to its name</td>\n      <td>26</td>\n      <td>[rofl, true]</td>\n      <td>rofl true</td>\n    </tr>\n  </tbody>\n</table>\n<p>5572 rows × 5 columns</p>\n</div>"
     },
     "execution_count": 20,
     "metadata": {},
     "output_type": "execute_result"
    }
   ],
   "source": [
    "messages.to_csv('../cleaned_datasets/sms_spam.csv', sep='\\t', index=False, encoding='utf-8')\n",
    "messages"
   ],
   "metadata": {
    "collapsed": false,
    "pycharm": {
     "name": "#%%\n"
    }
   }
  }
 ],
 "metadata": {
  "kernelspec": {
   "display_name": "Python 3",
   "language": "python",
   "name": "python3"
  },
  "language_info": {
   "codemirror_mode": {
    "name": "ipython",
    "version": 2
   },
   "file_extension": ".py",
   "mimetype": "text/x-python",
   "name": "python",
   "nbconvert_exporter": "python",
   "pygments_lexer": "ipython2",
   "version": "2.7.6"
  }
 },
 "nbformat": 4,
 "nbformat_minor": 0
}