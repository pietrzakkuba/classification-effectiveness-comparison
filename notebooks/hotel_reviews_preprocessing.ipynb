{
 "cells": [
  {
   "cell_type": "code",
   "execution_count": 1,
   "metadata": {
    "collapsed": true
   },
   "outputs": [],
   "source": [
    "import pandas as pd\n",
    "import textcleaning"
   ]
  },
  {
   "cell_type": "markdown",
   "source": [
    "Wczytanie danych"
   ],
   "metadata": {
    "collapsed": false
   }
  },
  {
   "cell_type": "code",
   "execution_count": 5,
   "outputs": [
    {
     "data": {
      "text/plain": "             rating\ncount  20491.000000\nmean       3.952223\nstd        1.233030\nmin        1.000000\n25%        3.000000\n50%        4.000000\n75%        5.000000\nmax        5.000000",
      "text/html": "<div>\n<style scoped>\n    .dataframe tbody tr th:only-of-type {\n        vertical-align: middle;\n    }\n\n    .dataframe tbody tr th {\n        vertical-align: top;\n    }\n\n    .dataframe thead th {\n        text-align: right;\n    }\n</style>\n<table border=\"1\" class=\"dataframe\">\n  <thead>\n    <tr style=\"text-align: right;\">\n      <th></th>\n      <th>rating</th>\n    </tr>\n  </thead>\n  <tbody>\n    <tr>\n      <th>count</th>\n      <td>20491.000000</td>\n    </tr>\n    <tr>\n      <th>mean</th>\n      <td>3.952223</td>\n    </tr>\n    <tr>\n      <th>std</th>\n      <td>1.233030</td>\n    </tr>\n    <tr>\n      <th>min</th>\n      <td>1.000000</td>\n    </tr>\n    <tr>\n      <th>25%</th>\n      <td>3.000000</td>\n    </tr>\n    <tr>\n      <th>50%</th>\n      <td>4.000000</td>\n    </tr>\n    <tr>\n      <th>75%</th>\n      <td>5.000000</td>\n    </tr>\n    <tr>\n      <th>max</th>\n      <td>5.000000</td>\n    </tr>\n  </tbody>\n</table>\n</div>"
     },
     "execution_count": 5,
     "metadata": {},
     "output_type": "execute_result"
    }
   ],
   "source": [
    "reviews = pd.read_csv('../datasets/Hotel Reviews/tripadvisor_hotel_reviews.csv')\n",
    "reviews.columns = ['review', 'rating']\n",
    "reviews = reviews[['rating', 'review']]\n",
    "reviews = reviews.dropna(how=\"any\", axis=1)\n",
    "reviews.describe()"
   ],
   "metadata": {
    "collapsed": false,
    "pycharm": {
     "name": "#%%\n"
    }
   }
  },
  {
   "cell_type": "code",
   "execution_count": 6,
   "outputs": [
    {
     "data": {
      "text/plain": "   rating                                             review  length\n0       4  nice hotel expensive parking got good deal sta...     593\n1       2  ok nothing special charge diamond member hilto...    1689\n2       3  nice rooms not 4* experience hotel monaco seat...    1427\n3       5  unique, great stay, wonderful time hotel monac...     600\n4       5  great stay great stay, went seahawk game aweso...    1281",
      "text/html": "<div>\n<style scoped>\n    .dataframe tbody tr th:only-of-type {\n        vertical-align: middle;\n    }\n\n    .dataframe tbody tr th {\n        vertical-align: top;\n    }\n\n    .dataframe thead th {\n        text-align: right;\n    }\n</style>\n<table border=\"1\" class=\"dataframe\">\n  <thead>\n    <tr style=\"text-align: right;\">\n      <th></th>\n      <th>rating</th>\n      <th>review</th>\n      <th>length</th>\n    </tr>\n  </thead>\n  <tbody>\n    <tr>\n      <th>0</th>\n      <td>4</td>\n      <td>nice hotel expensive parking got good deal sta...</td>\n      <td>593</td>\n    </tr>\n    <tr>\n      <th>1</th>\n      <td>2</td>\n      <td>ok nothing special charge diamond member hilto...</td>\n      <td>1689</td>\n    </tr>\n    <tr>\n      <th>2</th>\n      <td>3</td>\n      <td>nice rooms not 4* experience hotel monaco seat...</td>\n      <td>1427</td>\n    </tr>\n    <tr>\n      <th>3</th>\n      <td>5</td>\n      <td>unique, great stay, wonderful time hotel monac...</td>\n      <td>600</td>\n    </tr>\n    <tr>\n      <th>4</th>\n      <td>5</td>\n      <td>great stay great stay, went seahawk game aweso...</td>\n      <td>1281</td>\n    </tr>\n  </tbody>\n</table>\n</div>"
     },
     "execution_count": 6,
     "metadata": {},
     "output_type": "execute_result"
    }
   ],
   "source": [
    "reviews['length'] = reviews['review'].apply(len)\n",
    "reviews.head()"
   ],
   "metadata": {
    "collapsed": false,
    "pycharm": {
     "name": "#%%\n"
    }
   }
  },
  {
   "cell_type": "markdown",
   "source": [
    "Czyszczenie danych"
   ],
   "metadata": {
    "collapsed": false
   }
  },
  {
   "cell_type": "code",
   "execution_count": 7,
   "outputs": [
    {
     "data": {
      "text/plain": "   rating                                             review  length  \\\n0       4  nice hotel expensive parking got good deal sta...     593   \n1       2  ok nothing special charge diamond member hilto...    1689   \n2       3  nice rooms not 4* experience hotel monaco seat...    1427   \n3       5  unique, great stay, wonderful time hotel monac...     600   \n4       5  great stay great stay, went seahawk game aweso...    1281   \n\n                                 review_clean_tokens  \n0  [nice, expens, park, got, good, deal, stay, an...  \n1  [ok, noth, special, charg, diamond, member, hi...  \n2  [nice, room, experi, monaco, seattl, good, nt,...  \n3  [uniqu, great, stay, wonder, time, monaco, loc...  \n4  [great, stay, great, stay, went, seahawk, game...  ",
      "text/html": "<div>\n<style scoped>\n    .dataframe tbody tr th:only-of-type {\n        vertical-align: middle;\n    }\n\n    .dataframe tbody tr th {\n        vertical-align: top;\n    }\n\n    .dataframe thead th {\n        text-align: right;\n    }\n</style>\n<table border=\"1\" class=\"dataframe\">\n  <thead>\n    <tr style=\"text-align: right;\">\n      <th></th>\n      <th>rating</th>\n      <th>review</th>\n      <th>length</th>\n      <th>review_clean_tokens</th>\n    </tr>\n  </thead>\n  <tbody>\n    <tr>\n      <th>0</th>\n      <td>4</td>\n      <td>nice hotel expensive parking got good deal sta...</td>\n      <td>593</td>\n      <td>[nice, expens, park, got, good, deal, stay, an...</td>\n    </tr>\n    <tr>\n      <th>1</th>\n      <td>2</td>\n      <td>ok nothing special charge diamond member hilto...</td>\n      <td>1689</td>\n      <td>[ok, noth, special, charg, diamond, member, hi...</td>\n    </tr>\n    <tr>\n      <th>2</th>\n      <td>3</td>\n      <td>nice rooms not 4* experience hotel monaco seat...</td>\n      <td>1427</td>\n      <td>[nice, room, experi, monaco, seattl, good, nt,...</td>\n    </tr>\n    <tr>\n      <th>3</th>\n      <td>5</td>\n      <td>unique, great stay, wonderful time hotel monac...</td>\n      <td>600</td>\n      <td>[uniqu, great, stay, wonder, time, monaco, loc...</td>\n    </tr>\n    <tr>\n      <th>4</th>\n      <td>5</td>\n      <td>great stay great stay, went seahawk game aweso...</td>\n      <td>1281</td>\n      <td>[great, stay, great, stay, went, seahawk, game...</td>\n    </tr>\n  </tbody>\n</table>\n</div>"
     },
     "execution_count": 7,
     "metadata": {},
     "output_type": "execute_result"
    }
   ],
   "source": [
    "reviews['review_clean_tokens'] = reviews['review'].apply(textcleaning.clean_text_and_return_tokens)\n",
    "reviews.head()"
   ],
   "metadata": {
    "collapsed": false,
    "pycharm": {
     "name": "#%%\n"
    }
   }
  },
  {
   "cell_type": "code",
   "execution_count": 8,
   "outputs": [
    {
     "data": {
      "text/plain": "   rating                                             review  length  \\\n0       4  nice hotel expensive parking got good deal sta...     593   \n1       2  ok nothing special charge diamond member hilto...    1689   \n2       3  nice rooms not 4* experience hotel monaco seat...    1427   \n3       5  unique, great stay, wonderful time hotel monac...     600   \n4       5  great stay great stay, went seahawk game aweso...    1281   \n\n                                 review_clean_tokens  \\\n0  [nice, expens, park, got, good, deal, stay, an...   \n1  [ok, noth, special, charg, diamond, member, hi...   \n2  [nice, room, experi, monaco, seattl, good, nt,...   \n3  [uniqu, great, stay, wonder, time, monaco, loc...   \n4  [great, stay, great, stay, went, seahawk, game...   \n\n                                        review_clean  \n0  nice expens park got good deal stay anniversar...  \n1  ok noth special charg diamond member hilton de...  \n2  nice room experi monaco seattl good nt levelpo...  \n3  uniqu great stay wonder time monaco locat exce...  \n4  great stay great stay went seahawk game awesom...  ",
      "text/html": "<div>\n<style scoped>\n    .dataframe tbody tr th:only-of-type {\n        vertical-align: middle;\n    }\n\n    .dataframe tbody tr th {\n        vertical-align: top;\n    }\n\n    .dataframe thead th {\n        text-align: right;\n    }\n</style>\n<table border=\"1\" class=\"dataframe\">\n  <thead>\n    <tr style=\"text-align: right;\">\n      <th></th>\n      <th>rating</th>\n      <th>review</th>\n      <th>length</th>\n      <th>review_clean_tokens</th>\n      <th>review_clean</th>\n    </tr>\n  </thead>\n  <tbody>\n    <tr>\n      <th>0</th>\n      <td>4</td>\n      <td>nice hotel expensive parking got good deal sta...</td>\n      <td>593</td>\n      <td>[nice, expens, park, got, good, deal, stay, an...</td>\n      <td>nice expens park got good deal stay anniversar...</td>\n    </tr>\n    <tr>\n      <th>1</th>\n      <td>2</td>\n      <td>ok nothing special charge diamond member hilto...</td>\n      <td>1689</td>\n      <td>[ok, noth, special, charg, diamond, member, hi...</td>\n      <td>ok noth special charg diamond member hilton de...</td>\n    </tr>\n    <tr>\n      <th>2</th>\n      <td>3</td>\n      <td>nice rooms not 4* experience hotel monaco seat...</td>\n      <td>1427</td>\n      <td>[nice, room, experi, monaco, seattl, good, nt,...</td>\n      <td>nice room experi monaco seattl good nt levelpo...</td>\n    </tr>\n    <tr>\n      <th>3</th>\n      <td>5</td>\n      <td>unique, great stay, wonderful time hotel monac...</td>\n      <td>600</td>\n      <td>[uniqu, great, stay, wonder, time, monaco, loc...</td>\n      <td>uniqu great stay wonder time monaco locat exce...</td>\n    </tr>\n    <tr>\n      <th>4</th>\n      <td>5</td>\n      <td>great stay great stay, went seahawk game aweso...</td>\n      <td>1281</td>\n      <td>[great, stay, great, stay, went, seahawk, game...</td>\n      <td>great stay great stay went seahawk game awesom...</td>\n    </tr>\n  </tbody>\n</table>\n</div>"
     },
     "execution_count": 8,
     "metadata": {},
     "output_type": "execute_result"
    }
   ],
   "source": [
    "reviews['review_clean'] = reviews['review_clean_tokens'].apply(lambda tokens: ' '.join(tokens))\n",
    "reviews.head()"
   ],
   "metadata": {
    "collapsed": false,
    "pycharm": {
     "name": "#%%\n"
    }
   }
  },
  {
   "cell_type": "markdown",
   "source": [
    "Zakodowanie etykiet"
   ],
   "metadata": {
    "collapsed": false
   }
  },
  {
   "cell_type": "code",
   "execution_count": 9,
   "outputs": [],
   "source": [
    "reviews = reviews.rename(columns={'rating': 'label'})"
   ],
   "metadata": {
    "collapsed": false,
    "pycharm": {
     "name": "#%%\n"
    }
   }
  },
  {
   "cell_type": "markdown",
   "source": [
    "Zapisanie wyczyszczonych danych"
   ],
   "metadata": {
    "collapsed": false
   }
  },
  {
   "cell_type": "code",
   "execution_count": 10,
   "outputs": [
    {
     "data": {
      "text/plain": "       label                                             review  length  \\\n0          4  nice hotel expensive parking got good deal sta...     593   \n1          2  ok nothing special charge diamond member hilto...    1689   \n2          3  nice rooms not 4* experience hotel monaco seat...    1427   \n3          5  unique, great stay, wonderful time hotel monac...     600   \n4          5  great stay great stay, went seahawk game aweso...    1281   \n...      ...                                                ...     ...   \n20486      5  best kept secret 3rd time staying charm, not 5...     733   \n20487      4  great location price view hotel great quick pl...     306   \n20488      2  ok just looks nice modern outside, desk staff ...     443   \n20489      1  hotel theft ruined vacation hotel opened sept ...    5557   \n20490      2  people talking, ca n't believe excellent ratin...     620   \n\n                                     review_clean_tokens  \\\n0      [nice, expens, park, got, good, deal, stay, an...   \n1      [ok, noth, special, charg, diamond, member, hi...   \n2      [nice, room, experi, monaco, seattl, good, nt,...   \n3      [uniqu, great, stay, wonder, time, monaco, loc...   \n4      [great, stay, great, stay, went, seahawk, game...   \n...                                                  ...   \n20486  [best, kept, secret, time, stay, charm, nt, be...   \n20487  [great, locat, price, view, great, quick, plac...   \n20488  [ok, look, nice, modern, outsid, desk, staff, ...   \n20489  [theft, ruin, vacat, open, sept, guest, week, ...   \n20490  [peopl, talk, nt, believ, excel, rate, nt, yes...   \n\n                                            review_clean  \n0      nice expens park got good deal stay anniversar...  \n1      ok noth special charg diamond member hilton de...  \n2      nice room experi monaco seattl good nt levelpo...  \n3      uniqu great stay wonder time monaco locat exce...  \n4      great stay great stay went seahawk game awesom...  \n...                                                  ...  \n20486  best kept secret time stay charm nt beat time ...  \n20487  great locat price view great quick place sight...  \n20488  ok look nice modern outsid desk staff nt parti...  \n20489  theft ruin vacat open sept guest week happi st...  \n20490  peopl talk nt believ excel rate nt yes patrici...  \n\n[20491 rows x 5 columns]",
      "text/html": "<div>\n<style scoped>\n    .dataframe tbody tr th:only-of-type {\n        vertical-align: middle;\n    }\n\n    .dataframe tbody tr th {\n        vertical-align: top;\n    }\n\n    .dataframe thead th {\n        text-align: right;\n    }\n</style>\n<table border=\"1\" class=\"dataframe\">\n  <thead>\n    <tr style=\"text-align: right;\">\n      <th></th>\n      <th>label</th>\n      <th>review</th>\n      <th>length</th>\n      <th>review_clean_tokens</th>\n      <th>review_clean</th>\n    </tr>\n  </thead>\n  <tbody>\n    <tr>\n      <th>0</th>\n      <td>4</td>\n      <td>nice hotel expensive parking got good deal sta...</td>\n      <td>593</td>\n      <td>[nice, expens, park, got, good, deal, stay, an...</td>\n      <td>nice expens park got good deal stay anniversar...</td>\n    </tr>\n    <tr>\n      <th>1</th>\n      <td>2</td>\n      <td>ok nothing special charge diamond member hilto...</td>\n      <td>1689</td>\n      <td>[ok, noth, special, charg, diamond, member, hi...</td>\n      <td>ok noth special charg diamond member hilton de...</td>\n    </tr>\n    <tr>\n      <th>2</th>\n      <td>3</td>\n      <td>nice rooms not 4* experience hotel monaco seat...</td>\n      <td>1427</td>\n      <td>[nice, room, experi, monaco, seattl, good, nt,...</td>\n      <td>nice room experi monaco seattl good nt levelpo...</td>\n    </tr>\n    <tr>\n      <th>3</th>\n      <td>5</td>\n      <td>unique, great stay, wonderful time hotel monac...</td>\n      <td>600</td>\n      <td>[uniqu, great, stay, wonder, time, monaco, loc...</td>\n      <td>uniqu great stay wonder time monaco locat exce...</td>\n    </tr>\n    <tr>\n      <th>4</th>\n      <td>5</td>\n      <td>great stay great stay, went seahawk game aweso...</td>\n      <td>1281</td>\n      <td>[great, stay, great, stay, went, seahawk, game...</td>\n      <td>great stay great stay went seahawk game awesom...</td>\n    </tr>\n    <tr>\n      <th>...</th>\n      <td>...</td>\n      <td>...</td>\n      <td>...</td>\n      <td>...</td>\n      <td>...</td>\n    </tr>\n    <tr>\n      <th>20486</th>\n      <td>5</td>\n      <td>best kept secret 3rd time staying charm, not 5...</td>\n      <td>733</td>\n      <td>[best, kept, secret, time, stay, charm, nt, be...</td>\n      <td>best kept secret time stay charm nt beat time ...</td>\n    </tr>\n    <tr>\n      <th>20487</th>\n      <td>4</td>\n      <td>great location price view hotel great quick pl...</td>\n      <td>306</td>\n      <td>[great, locat, price, view, great, quick, plac...</td>\n      <td>great locat price view great quick place sight...</td>\n    </tr>\n    <tr>\n      <th>20488</th>\n      <td>2</td>\n      <td>ok just looks nice modern outside, desk staff ...</td>\n      <td>443</td>\n      <td>[ok, look, nice, modern, outsid, desk, staff, ...</td>\n      <td>ok look nice modern outsid desk staff nt parti...</td>\n    </tr>\n    <tr>\n      <th>20489</th>\n      <td>1</td>\n      <td>hotel theft ruined vacation hotel opened sept ...</td>\n      <td>5557</td>\n      <td>[theft, ruin, vacat, open, sept, guest, week, ...</td>\n      <td>theft ruin vacat open sept guest week happi st...</td>\n    </tr>\n    <tr>\n      <th>20490</th>\n      <td>2</td>\n      <td>people talking, ca n't believe excellent ratin...</td>\n      <td>620</td>\n      <td>[peopl, talk, nt, believ, excel, rate, nt, yes...</td>\n      <td>peopl talk nt believ excel rate nt yes patrici...</td>\n    </tr>\n  </tbody>\n</table>\n<p>20491 rows × 5 columns</p>\n</div>"
     },
     "execution_count": 10,
     "metadata": {},
     "output_type": "execute_result"
    }
   ],
   "source": [
    "reviews.to_csv('../cleaned_datasets/hotel_reviews.csv', sep='\\t', index=False, encoding='utf-8')\n",
    "reviews"
   ],
   "metadata": {
    "collapsed": false,
    "pycharm": {
     "name": "#%%\n"
    }
   }
  }
 ],
 "metadata": {
  "kernelspec": {
   "display_name": "Python 3",
   "language": "python",
   "name": "python3"
  },
  "language_info": {
   "codemirror_mode": {
    "name": "ipython",
    "version": 2
   },
   "file_extension": ".py",
   "mimetype": "text/x-python",
   "name": "python",
   "nbconvert_exporter": "python",
   "pygments_lexer": "ipython2",
   "version": "2.7.6"
  }
 },
 "nbformat": 4,
 "nbformat_minor": 0
}