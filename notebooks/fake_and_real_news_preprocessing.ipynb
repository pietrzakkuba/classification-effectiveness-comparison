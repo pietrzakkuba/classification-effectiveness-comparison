{
 "cells": [
  {
   "cell_type": "code",
   "execution_count": 2,
   "metadata": {
    "collapsed": true,
    "pycharm": {
     "name": "#%%\n"
    }
   },
   "outputs": [],
   "source": [
    "import pandas as pd\n",
    "import textcleaning"
   ]
  },
  {
   "cell_type": "markdown",
   "source": [
    "Wczytanie danych"
   ],
   "metadata": {
    "collapsed": false,
    "pycharm": {
     "name": "#%% md\n"
    }
   }
  },
  {
   "cell_type": "code",
   "execution_count": 17,
   "outputs": [],
   "source": [
    "real_news = pd.read_csv('../datasets/Fake and real news/True.csv')\n",
    "fake_news = pd.read_csv('../datasets/Fake and real news/Fake.csv')"
   ],
   "metadata": {
    "collapsed": false,
    "pycharm": {
     "name": "#%%\n"
    }
   }
  },
  {
   "cell_type": "markdown",
   "source": [
    "Zakodowanie etykiet i połączenie zbiorów"
   ],
   "metadata": {
    "collapsed": false,
    "pycharm": {
     "name": "#%% md\n"
    }
   }
  },
  {
   "cell_type": "code",
   "execution_count": 18,
   "outputs": [
    {
     "data": {
      "text/plain": "                                                   title  \\\n23476  McPain: John McCain Furious That Iran Treated ...   \n23477  JUSTICE? Yahoo Settles E-mail Privacy Class-ac...   \n23478  Sunnistan: US and Allied ‘Safe Zone’ Plan to T...   \n23479  How to Blow $700 Million: Al Jazeera America F...   \n23480  10 U.S. Navy Sailors Held by Iranian Military ...   \n\n                                                    text      subject  \\\n23476  21st Century Wire says As 21WIRE reported earl...  Middle-east   \n23477  21st Century Wire says It s a familiar theme. ...  Middle-east   \n23478  Patrick Henningsen  21st Century WireRemember ...  Middle-east   \n23479  21st Century Wire says Al Jazeera America will...  Middle-east   \n23480  21st Century Wire says As 21WIRE predicted in ...  Middle-east   \n\n                   date  label  \n23476  January 16, 2016      1  \n23477  January 16, 2016      1  \n23478  January 15, 2016      1  \n23479  January 14, 2016      1  \n23480  January 12, 2016      1  ",
      "text/html": "<div>\n<style scoped>\n    .dataframe tbody tr th:only-of-type {\n        vertical-align: middle;\n    }\n\n    .dataframe tbody tr th {\n        vertical-align: top;\n    }\n\n    .dataframe thead th {\n        text-align: right;\n    }\n</style>\n<table border=\"1\" class=\"dataframe\">\n  <thead>\n    <tr style=\"text-align: right;\">\n      <th></th>\n      <th>title</th>\n      <th>text</th>\n      <th>subject</th>\n      <th>date</th>\n      <th>label</th>\n    </tr>\n  </thead>\n  <tbody>\n    <tr>\n      <th>23476</th>\n      <td>McPain: John McCain Furious That Iran Treated ...</td>\n      <td>21st Century Wire says As 21WIRE reported earl...</td>\n      <td>Middle-east</td>\n      <td>January 16, 2016</td>\n      <td>1</td>\n    </tr>\n    <tr>\n      <th>23477</th>\n      <td>JUSTICE? Yahoo Settles E-mail Privacy Class-ac...</td>\n      <td>21st Century Wire says It s a familiar theme. ...</td>\n      <td>Middle-east</td>\n      <td>January 16, 2016</td>\n      <td>1</td>\n    </tr>\n    <tr>\n      <th>23478</th>\n      <td>Sunnistan: US and Allied ‘Safe Zone’ Plan to T...</td>\n      <td>Patrick Henningsen  21st Century WireRemember ...</td>\n      <td>Middle-east</td>\n      <td>January 15, 2016</td>\n      <td>1</td>\n    </tr>\n    <tr>\n      <th>23479</th>\n      <td>How to Blow $700 Million: Al Jazeera America F...</td>\n      <td>21st Century Wire says Al Jazeera America will...</td>\n      <td>Middle-east</td>\n      <td>January 14, 2016</td>\n      <td>1</td>\n    </tr>\n    <tr>\n      <th>23480</th>\n      <td>10 U.S. Navy Sailors Held by Iranian Military ...</td>\n      <td>21st Century Wire says As 21WIRE predicted in ...</td>\n      <td>Middle-east</td>\n      <td>January 12, 2016</td>\n      <td>1</td>\n    </tr>\n  </tbody>\n</table>\n</div>"
     },
     "execution_count": 18,
     "metadata": {},
     "output_type": "execute_result"
    }
   ],
   "source": [
    "real_news['label'] = 0\n",
    "fake_news['label'] = 1\n",
    "news = pd.concat([real_news, fake_news])\n",
    "news.tail()"
   ],
   "metadata": {
    "collapsed": false,
    "pycharm": {
     "name": "#%%\n"
    }
   }
  },
  {
   "cell_type": "markdown",
   "source": [
    "Połączenie danych tekstowych w jedną kolumnę"
   ],
   "metadata": {
    "collapsed": false,
    "pycharm": {
     "name": "#%% md\n"
    }
   }
  },
  {
   "cell_type": "code",
   "execution_count": 19,
   "outputs": [
    {
     "data": {
      "text/plain": "       label                                               text\n0          0  As U.S. budget fight looms, Republicans flip t...\n1          0  U.S. military to accept transgender recruits o...\n2          0  Senior U.S. Republican senator: 'Let Mr. Muell...\n3          0  FBI Russia probe helped by Australian diplomat...\n4          0  Trump wants Postal Service to charge 'much mor...\n...      ...                                                ...\n23476      1  McPain: John McCain Furious That Iran Treated ...\n23477      1  JUSTICE? Yahoo Settles E-mail Privacy Class-ac...\n23478      1  Sunnistan: US and Allied ‘Safe Zone’ Plan to T...\n23479      1  How to Blow $700 Million: Al Jazeera America F...\n23480      1  10 U.S. Navy Sailors Held by Iranian Military ...\n\n[44898 rows x 2 columns]",
      "text/html": "<div>\n<style scoped>\n    .dataframe tbody tr th:only-of-type {\n        vertical-align: middle;\n    }\n\n    .dataframe tbody tr th {\n        vertical-align: top;\n    }\n\n    .dataframe thead th {\n        text-align: right;\n    }\n</style>\n<table border=\"1\" class=\"dataframe\">\n  <thead>\n    <tr style=\"text-align: right;\">\n      <th></th>\n      <th>label</th>\n      <th>text</th>\n    </tr>\n  </thead>\n  <tbody>\n    <tr>\n      <th>0</th>\n      <td>0</td>\n      <td>As U.S. budget fight looms, Republicans flip t...</td>\n    </tr>\n    <tr>\n      <th>1</th>\n      <td>0</td>\n      <td>U.S. military to accept transgender recruits o...</td>\n    </tr>\n    <tr>\n      <th>2</th>\n      <td>0</td>\n      <td>Senior U.S. Republican senator: 'Let Mr. Muell...</td>\n    </tr>\n    <tr>\n      <th>3</th>\n      <td>0</td>\n      <td>FBI Russia probe helped by Australian diplomat...</td>\n    </tr>\n    <tr>\n      <th>4</th>\n      <td>0</td>\n      <td>Trump wants Postal Service to charge 'much mor...</td>\n    </tr>\n    <tr>\n      <th>...</th>\n      <td>...</td>\n      <td>...</td>\n    </tr>\n    <tr>\n      <th>23476</th>\n      <td>1</td>\n      <td>McPain: John McCain Furious That Iran Treated ...</td>\n    </tr>\n    <tr>\n      <th>23477</th>\n      <td>1</td>\n      <td>JUSTICE? Yahoo Settles E-mail Privacy Class-ac...</td>\n    </tr>\n    <tr>\n      <th>23478</th>\n      <td>1</td>\n      <td>Sunnistan: US and Allied ‘Safe Zone’ Plan to T...</td>\n    </tr>\n    <tr>\n      <th>23479</th>\n      <td>1</td>\n      <td>How to Blow $700 Million: Al Jazeera America F...</td>\n    </tr>\n    <tr>\n      <th>23480</th>\n      <td>1</td>\n      <td>10 U.S. Navy Sailors Held by Iranian Military ...</td>\n    </tr>\n  </tbody>\n</table>\n<p>44898 rows × 2 columns</p>\n</div>"
     },
     "execution_count": 19,
     "metadata": {},
     "output_type": "execute_result"
    }
   ],
   "source": [
    "news['text'] = news['title'] + ' ' + news['text']\n",
    "news = news[['label', 'text']]\n",
    "news"
   ],
   "metadata": {
    "collapsed": false,
    "pycharm": {
     "name": "#%%\n"
    }
   }
  },
  {
   "cell_type": "markdown",
   "source": [
    "Czyszczenie danych"
   ],
   "metadata": {
    "collapsed": false,
    "pycharm": {
     "name": "#%% md\n"
    }
   }
  },
  {
   "cell_type": "code",
   "execution_count": 21,
   "outputs": [
    {
     "data": {
      "text/plain": "   label                                               text  \\\n0      0  As U.S. budget fight looms, Republicans flip t...   \n1      0  U.S. military to accept transgender recruits o...   \n2      0  Senior U.S. Republican senator: 'Let Mr. Muell...   \n3      0  FBI Russia probe helped by Australian diplomat...   \n4      0  Trump wants Postal Service to charge 'much mor...   \n\n                                   text_clean_tokens  \n0  [us, budget, fight, loom, republican, flip, fi...  \n1  [us, militari, accept, transgend, recruit, mon...  \n2  [senior, us, republican, senat, let, mr, muell...  \n3  [fbi, russia, probe, help, australian, diploma...  \n4  [trump, want, postal, servic, charg, much, ama...  ",
      "text/html": "<div>\n<style scoped>\n    .dataframe tbody tr th:only-of-type {\n        vertical-align: middle;\n    }\n\n    .dataframe tbody tr th {\n        vertical-align: top;\n    }\n\n    .dataframe thead th {\n        text-align: right;\n    }\n</style>\n<table border=\"1\" class=\"dataframe\">\n  <thead>\n    <tr style=\"text-align: right;\">\n      <th></th>\n      <th>label</th>\n      <th>text</th>\n      <th>text_clean_tokens</th>\n    </tr>\n  </thead>\n  <tbody>\n    <tr>\n      <th>0</th>\n      <td>0</td>\n      <td>As U.S. budget fight looms, Republicans flip t...</td>\n      <td>[us, budget, fight, loom, republican, flip, fi...</td>\n    </tr>\n    <tr>\n      <th>1</th>\n      <td>0</td>\n      <td>U.S. military to accept transgender recruits o...</td>\n      <td>[us, militari, accept, transgend, recruit, mon...</td>\n    </tr>\n    <tr>\n      <th>2</th>\n      <td>0</td>\n      <td>Senior U.S. Republican senator: 'Let Mr. Muell...</td>\n      <td>[senior, us, republican, senat, let, mr, muell...</td>\n    </tr>\n    <tr>\n      <th>3</th>\n      <td>0</td>\n      <td>FBI Russia probe helped by Australian diplomat...</td>\n      <td>[fbi, russia, probe, help, australian, diploma...</td>\n    </tr>\n    <tr>\n      <th>4</th>\n      <td>0</td>\n      <td>Trump wants Postal Service to charge 'much mor...</td>\n      <td>[trump, want, postal, servic, charg, much, ama...</td>\n    </tr>\n  </tbody>\n</table>\n</div>"
     },
     "execution_count": 21,
     "metadata": {},
     "output_type": "execute_result"
    }
   ],
   "source": [
    "news['text_clean_tokens'] = news['text'].apply(textcleaning.clean_text_and_return_tokens)\n",
    "news.head()"
   ],
   "metadata": {
    "collapsed": false,
    "pycharm": {
     "name": "#%%\n"
    }
   }
  },
  {
   "cell_type": "code",
   "execution_count": 22,
   "outputs": [
    {
     "data": {
      "text/plain": "   label                                               text  \\\n0      0  As U.S. budget fight looms, Republicans flip t...   \n1      0  U.S. military to accept transgender recruits o...   \n2      0  Senior U.S. Republican senator: 'Let Mr. Muell...   \n3      0  FBI Russia probe helped by Australian diplomat...   \n4      0  Trump wants Postal Service to charge 'much mor...   \n\n                                   text_clean_tokens  \\\n0  [us, budget, fight, loom, republican, flip, fi...   \n1  [us, militari, accept, transgend, recruit, mon...   \n2  [senior, us, republican, senat, let, mr, muell...   \n3  [fbi, russia, probe, help, australian, diploma...   \n4  [trump, want, postal, servic, charg, much, ama...   \n\n                                          text_clean  \n0  us budget fight loom republican flip fiscal sc...  \n1  us militari accept transgend recruit monday pe...  \n2  senior us republican senat let mr mueller job ...  \n3  fbi russia probe help australian diplomat tipo...  \n4  trump want postal servic charg much amazon shi...  ",
      "text/html": "<div>\n<style scoped>\n    .dataframe tbody tr th:only-of-type {\n        vertical-align: middle;\n    }\n\n    .dataframe tbody tr th {\n        vertical-align: top;\n    }\n\n    .dataframe thead th {\n        text-align: right;\n    }\n</style>\n<table border=\"1\" class=\"dataframe\">\n  <thead>\n    <tr style=\"text-align: right;\">\n      <th></th>\n      <th>label</th>\n      <th>text</th>\n      <th>text_clean_tokens</th>\n      <th>text_clean</th>\n    </tr>\n  </thead>\n  <tbody>\n    <tr>\n      <th>0</th>\n      <td>0</td>\n      <td>As U.S. budget fight looms, Republicans flip t...</td>\n      <td>[us, budget, fight, loom, republican, flip, fi...</td>\n      <td>us budget fight loom republican flip fiscal sc...</td>\n    </tr>\n    <tr>\n      <th>1</th>\n      <td>0</td>\n      <td>U.S. military to accept transgender recruits o...</td>\n      <td>[us, militari, accept, transgend, recruit, mon...</td>\n      <td>us militari accept transgend recruit monday pe...</td>\n    </tr>\n    <tr>\n      <th>2</th>\n      <td>0</td>\n      <td>Senior U.S. Republican senator: 'Let Mr. Muell...</td>\n      <td>[senior, us, republican, senat, let, mr, muell...</td>\n      <td>senior us republican senat let mr mueller job ...</td>\n    </tr>\n    <tr>\n      <th>3</th>\n      <td>0</td>\n      <td>FBI Russia probe helped by Australian diplomat...</td>\n      <td>[fbi, russia, probe, help, australian, diploma...</td>\n      <td>fbi russia probe help australian diplomat tipo...</td>\n    </tr>\n    <tr>\n      <th>4</th>\n      <td>0</td>\n      <td>Trump wants Postal Service to charge 'much mor...</td>\n      <td>[trump, want, postal, servic, charg, much, ama...</td>\n      <td>trump want postal servic charg much amazon shi...</td>\n    </tr>\n  </tbody>\n</table>\n</div>"
     },
     "execution_count": 22,
     "metadata": {},
     "output_type": "execute_result"
    }
   ],
   "source": [
    "news['text_clean'] = news['text_clean_tokens'].apply(lambda tokens: ' '.join(tokens))\n",
    "news.head()"
   ],
   "metadata": {
    "collapsed": false,
    "pycharm": {
     "name": "#%%\n"
    }
   }
  },
  {
   "cell_type": "code",
   "execution_count": 23,
   "outputs": [
    {
     "data": {
      "text/plain": "   label                                               text  \\\n0      0  As U.S. budget fight looms, Republicans flip t...   \n1      0  U.S. military to accept transgender recruits o...   \n2      0  Senior U.S. Republican senator: 'Let Mr. Muell...   \n3      0  FBI Russia probe helped by Australian diplomat...   \n4      0  Trump wants Postal Service to charge 'much mor...   \n\n                                   text_clean_tokens  \\\n0  [us, budget, fight, loom, republican, flip, fi...   \n1  [us, militari, accept, transgend, recruit, mon...   \n2  [senior, us, republican, senat, let, mr, muell...   \n3  [fbi, russia, probe, help, australian, diploma...   \n4  [trump, want, postal, servic, charg, much, ama...   \n\n                                          text_clean  length  \n0  us budget fight loom republican flip fiscal sc...    2949  \n1  us militari accept transgend recruit monday pe...    2637  \n2  senior us republican senat let mr mueller job ...    1789  \n3  fbi russia probe help australian diplomat tipo...    1616  \n4  trump want postal servic charg much amazon shi...    3237  ",
      "text/html": "<div>\n<style scoped>\n    .dataframe tbody tr th:only-of-type {\n        vertical-align: middle;\n    }\n\n    .dataframe tbody tr th {\n        vertical-align: top;\n    }\n\n    .dataframe thead th {\n        text-align: right;\n    }\n</style>\n<table border=\"1\" class=\"dataframe\">\n  <thead>\n    <tr style=\"text-align: right;\">\n      <th></th>\n      <th>label</th>\n      <th>text</th>\n      <th>text_clean_tokens</th>\n      <th>text_clean</th>\n      <th>length</th>\n    </tr>\n  </thead>\n  <tbody>\n    <tr>\n      <th>0</th>\n      <td>0</td>\n      <td>As U.S. budget fight looms, Republicans flip t...</td>\n      <td>[us, budget, fight, loom, republican, flip, fi...</td>\n      <td>us budget fight loom republican flip fiscal sc...</td>\n      <td>2949</td>\n    </tr>\n    <tr>\n      <th>1</th>\n      <td>0</td>\n      <td>U.S. military to accept transgender recruits o...</td>\n      <td>[us, militari, accept, transgend, recruit, mon...</td>\n      <td>us militari accept transgend recruit monday pe...</td>\n      <td>2637</td>\n    </tr>\n    <tr>\n      <th>2</th>\n      <td>0</td>\n      <td>Senior U.S. Republican senator: 'Let Mr. Muell...</td>\n      <td>[senior, us, republican, senat, let, mr, muell...</td>\n      <td>senior us republican senat let mr mueller job ...</td>\n      <td>1789</td>\n    </tr>\n    <tr>\n      <th>3</th>\n      <td>0</td>\n      <td>FBI Russia probe helped by Australian diplomat...</td>\n      <td>[fbi, russia, probe, help, australian, diploma...</td>\n      <td>fbi russia probe help australian diplomat tipo...</td>\n      <td>1616</td>\n    </tr>\n    <tr>\n      <th>4</th>\n      <td>0</td>\n      <td>Trump wants Postal Service to charge 'much mor...</td>\n      <td>[trump, want, postal, servic, charg, much, ama...</td>\n      <td>trump want postal servic charg much amazon shi...</td>\n      <td>3237</td>\n    </tr>\n  </tbody>\n</table>\n</div>"
     },
     "execution_count": 23,
     "metadata": {},
     "output_type": "execute_result"
    }
   ],
   "source": [
    "news['length'] = news['text_clean'].apply(len)\n",
    "news.head()"
   ],
   "metadata": {
    "collapsed": false,
    "pycharm": {
     "name": "#%%\n"
    }
   }
  },
  {
   "cell_type": "markdown",
   "source": [
    "Zapisanie wyczyszczonych danych"
   ],
   "metadata": {
    "collapsed": false,
    "pycharm": {
     "name": "#%% md\n"
    }
   }
  },
  {
   "cell_type": "code",
   "execution_count": 24,
   "outputs": [
    {
     "data": {
      "text/plain": "       label                                               text  \\\n0          0  As U.S. budget fight looms, Republicans flip t...   \n1          0  U.S. military to accept transgender recruits o...   \n2          0  Senior U.S. Republican senator: 'Let Mr. Muell...   \n3          0  FBI Russia probe helped by Australian diplomat...   \n4          0  Trump wants Postal Service to charge 'much mor...   \n...      ...                                                ...   \n23476      1  McPain: John McCain Furious That Iran Treated ...   \n23477      1  JUSTICE? Yahoo Settles E-mail Privacy Class-ac...   \n23478      1  Sunnistan: US and Allied ‘Safe Zone’ Plan to T...   \n23479      1  How to Blow $700 Million: Al Jazeera America F...   \n23480      1  10 U.S. Navy Sailors Held by Iranian Military ...   \n\n                                       text_clean_tokens  \\\n0      [us, budget, fight, loom, republican, flip, fi...   \n1      [us, militari, accept, transgend, recruit, mon...   \n2      [senior, us, republican, senat, let, mr, muell...   \n3      [fbi, russia, probe, help, australian, diploma...   \n4      [trump, want, postal, servic, charg, much, ama...   \n...                                                  ...   \n23476  [mcpain, john, mccain, furious, iran, treat, u...   \n23477  [justic, yahoo, settl, email, privaci, classac...   \n23478  [sunnistan, us, alli, ‘, safe, zone, ’, plan, ...   \n23479  [blow, million, jazeera, america, final, call,...   \n23480  [us, navi, sailor, held, iranian, militari, –,...   \n\n                                              text_clean  length  \n0      us budget fight loom republican flip fiscal sc...    2949  \n1      us militari accept transgend recruit monday pe...    2637  \n2      senior us republican senat let mr mueller job ...    1789  \n3      fbi russia probe help australian diplomat tipo...    1616  \n4      trump want postal servic charg much amazon shi...    3237  \n...                                                  ...     ...  \n23476  mcpain john mccain furious iran treat us sailo...    2062  \n23477  justic yahoo settl email privaci classact lawy...    1038  \n23478  sunnistan us alli ‘ safe zone ’ plan territori...   14880  \n23479  blow million jazeera america final call quit c...    1604  \n23480  us navi sailor held iranian militari – sign ne...    3247  \n\n[44898 rows x 5 columns]",
      "text/html": "<div>\n<style scoped>\n    .dataframe tbody tr th:only-of-type {\n        vertical-align: middle;\n    }\n\n    .dataframe tbody tr th {\n        vertical-align: top;\n    }\n\n    .dataframe thead th {\n        text-align: right;\n    }\n</style>\n<table border=\"1\" class=\"dataframe\">\n  <thead>\n    <tr style=\"text-align: right;\">\n      <th></th>\n      <th>label</th>\n      <th>text</th>\n      <th>text_clean_tokens</th>\n      <th>text_clean</th>\n      <th>length</th>\n    </tr>\n  </thead>\n  <tbody>\n    <tr>\n      <th>0</th>\n      <td>0</td>\n      <td>As U.S. budget fight looms, Republicans flip t...</td>\n      <td>[us, budget, fight, loom, republican, flip, fi...</td>\n      <td>us budget fight loom republican flip fiscal sc...</td>\n      <td>2949</td>\n    </tr>\n    <tr>\n      <th>1</th>\n      <td>0</td>\n      <td>U.S. military to accept transgender recruits o...</td>\n      <td>[us, militari, accept, transgend, recruit, mon...</td>\n      <td>us militari accept transgend recruit monday pe...</td>\n      <td>2637</td>\n    </tr>\n    <tr>\n      <th>2</th>\n      <td>0</td>\n      <td>Senior U.S. Republican senator: 'Let Mr. Muell...</td>\n      <td>[senior, us, republican, senat, let, mr, muell...</td>\n      <td>senior us republican senat let mr mueller job ...</td>\n      <td>1789</td>\n    </tr>\n    <tr>\n      <th>3</th>\n      <td>0</td>\n      <td>FBI Russia probe helped by Australian diplomat...</td>\n      <td>[fbi, russia, probe, help, australian, diploma...</td>\n      <td>fbi russia probe help australian diplomat tipo...</td>\n      <td>1616</td>\n    </tr>\n    <tr>\n      <th>4</th>\n      <td>0</td>\n      <td>Trump wants Postal Service to charge 'much mor...</td>\n      <td>[trump, want, postal, servic, charg, much, ama...</td>\n      <td>trump want postal servic charg much amazon shi...</td>\n      <td>3237</td>\n    </tr>\n    <tr>\n      <th>...</th>\n      <td>...</td>\n      <td>...</td>\n      <td>...</td>\n      <td>...</td>\n      <td>...</td>\n    </tr>\n    <tr>\n      <th>23476</th>\n      <td>1</td>\n      <td>McPain: John McCain Furious That Iran Treated ...</td>\n      <td>[mcpain, john, mccain, furious, iran, treat, u...</td>\n      <td>mcpain john mccain furious iran treat us sailo...</td>\n      <td>2062</td>\n    </tr>\n    <tr>\n      <th>23477</th>\n      <td>1</td>\n      <td>JUSTICE? Yahoo Settles E-mail Privacy Class-ac...</td>\n      <td>[justic, yahoo, settl, email, privaci, classac...</td>\n      <td>justic yahoo settl email privaci classact lawy...</td>\n      <td>1038</td>\n    </tr>\n    <tr>\n      <th>23478</th>\n      <td>1</td>\n      <td>Sunnistan: US and Allied ‘Safe Zone’ Plan to T...</td>\n      <td>[sunnistan, us, alli, ‘, safe, zone, ’, plan, ...</td>\n      <td>sunnistan us alli ‘ safe zone ’ plan territori...</td>\n      <td>14880</td>\n    </tr>\n    <tr>\n      <th>23479</th>\n      <td>1</td>\n      <td>How to Blow $700 Million: Al Jazeera America F...</td>\n      <td>[blow, million, jazeera, america, final, call,...</td>\n      <td>blow million jazeera america final call quit c...</td>\n      <td>1604</td>\n    </tr>\n    <tr>\n      <th>23480</th>\n      <td>1</td>\n      <td>10 U.S. Navy Sailors Held by Iranian Military ...</td>\n      <td>[us, navi, sailor, held, iranian, militari, –,...</td>\n      <td>us navi sailor held iranian militari – sign ne...</td>\n      <td>3247</td>\n    </tr>\n  </tbody>\n</table>\n<p>44898 rows × 5 columns</p>\n</div>"
     },
     "execution_count": 24,
     "metadata": {},
     "output_type": "execute_result"
    }
   ],
   "source": [
    "news.to_csv('../cleaned_datasets/fake_and_real_news.csv', sep='\\t', index=False, encoding='utf-8')\n",
    "news"
   ],
   "metadata": {
    "collapsed": false,
    "pycharm": {
     "name": "#%%\n"
    }
   }
  }
 ],
 "metadata": {
  "kernelspec": {
   "display_name": "Python 3",
   "language": "python",
   "name": "python3"
  },
  "language_info": {
   "codemirror_mode": {
    "name": "ipython",
    "version": 2
   },
   "file_extension": ".py",
   "mimetype": "text/x-python",
   "name": "python",
   "nbconvert_exporter": "python",
   "pygments_lexer": "ipython2",
   "version": "2.7.6"
  }
 },
 "nbformat": 4,
 "nbformat_minor": 0
}