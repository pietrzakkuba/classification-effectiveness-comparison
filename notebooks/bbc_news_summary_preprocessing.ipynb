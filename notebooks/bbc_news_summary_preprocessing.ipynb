{
 "cells": [
  {
   "cell_type": "code",
   "execution_count": 1,
   "metadata": {
    "collapsed": true,
    "pycharm": {
     "name": "#%%\n"
    }
   },
   "outputs": [],
   "source": [
    "import pandas as pd\n",
    "import textcleaning\n",
    "import os"
   ]
  },
  {
   "cell_type": "markdown",
   "source": [
    "Wczytanie danych"
   ],
   "metadata": {
    "collapsed": false,
    "pycharm": {
     "name": "#%% md\n"
    }
   }
  },
  {
   "cell_type": "code",
   "execution_count": 2,
   "outputs": [],
   "source": [
    "datasource_path = '../datasets/BBC News Summary/Summaries'\n",
    "business_path = datasource_path + '/business'\n",
    "entertainment_path = datasource_path + '/entertainment'\n",
    "politics_path = datasource_path + '/politics'\n",
    "sport_path = datasource_path + '/sport'\n",
    "tech_path = datasource_path + '/tech'\n",
    "\n",
    "business_summaries = [\n",
    "\topen(business_path + '/' + filepath).read() for filepath in os.listdir(business_path)\n",
    "]\n",
    "entertainment_summaries = [\n",
    "\topen(entertainment_path + '/' + filepath).read() for filepath in os.listdir(entertainment_path)\n",
    "]\n",
    "politics_summaries = [\n",
    "\topen(politics_path + '/' + filepath).read() for filepath in os.listdir(politics_path)\n",
    "]\n",
    "sport_summaries = [\n",
    "\topen(sport_path + '/' + filepath).read() for filepath in os.listdir(sport_path)\n",
    "]\n",
    "tech_summaries = [\n",
    "\topen(tech_path + '/' + filepath).read() for filepath in os.listdir(tech_path)\n",
    "]"
   ],
   "metadata": {
    "collapsed": false,
    "pycharm": {
     "name": "#%%\n"
    }
   }
  },
  {
   "cell_type": "code",
   "execution_count": 4,
   "outputs": [
    {
     "data": {
      "text/plain": "     label                                            summary\n0        1  TimeWarner said fourth quarter sales rose 2% t...\n1        1  The dollar has hit its highest level against t...\n2        1  Yukos' owner Menatep Group says it will ask Ro...\n3        1  Rod Eddington, BA's chief executive, said the ...\n4        1  Pernod has reduced the debt it took on to fund...\n...    ...                                                ...\n2220     5  BT is introducing two initiatives to help beat...\n2221     5  A third of them read unsolicited junk e-mail a...\n2222     5  This goes to the heart of the European project...\n2223     5  Amit Yoran was director of the National Cyber ...\n2224     5  He says that in the world of online gaming suc...\n\n[2225 rows x 2 columns]",
      "text/html": "<div>\n<style scoped>\n    .dataframe tbody tr th:only-of-type {\n        vertical-align: middle;\n    }\n\n    .dataframe tbody tr th {\n        vertical-align: top;\n    }\n\n    .dataframe thead th {\n        text-align: right;\n    }\n</style>\n<table border=\"1\" class=\"dataframe\">\n  <thead>\n    <tr style=\"text-align: right;\">\n      <th></th>\n      <th>label</th>\n      <th>summary</th>\n    </tr>\n  </thead>\n  <tbody>\n    <tr>\n      <th>0</th>\n      <td>1</td>\n      <td>TimeWarner said fourth quarter sales rose 2% t...</td>\n    </tr>\n    <tr>\n      <th>1</th>\n      <td>1</td>\n      <td>The dollar has hit its highest level against t...</td>\n    </tr>\n    <tr>\n      <th>2</th>\n      <td>1</td>\n      <td>Yukos' owner Menatep Group says it will ask Ro...</td>\n    </tr>\n    <tr>\n      <th>3</th>\n      <td>1</td>\n      <td>Rod Eddington, BA's chief executive, said the ...</td>\n    </tr>\n    <tr>\n      <th>4</th>\n      <td>1</td>\n      <td>Pernod has reduced the debt it took on to fund...</td>\n    </tr>\n    <tr>\n      <th>...</th>\n      <td>...</td>\n      <td>...</td>\n    </tr>\n    <tr>\n      <th>2220</th>\n      <td>5</td>\n      <td>BT is introducing two initiatives to help beat...</td>\n    </tr>\n    <tr>\n      <th>2221</th>\n      <td>5</td>\n      <td>A third of them read unsolicited junk e-mail a...</td>\n    </tr>\n    <tr>\n      <th>2222</th>\n      <td>5</td>\n      <td>This goes to the heart of the European project...</td>\n    </tr>\n    <tr>\n      <th>2223</th>\n      <td>5</td>\n      <td>Amit Yoran was director of the National Cyber ...</td>\n    </tr>\n    <tr>\n      <th>2224</th>\n      <td>5</td>\n      <td>He says that in the world of online gaming suc...</td>\n    </tr>\n  </tbody>\n</table>\n<p>2225 rows × 2 columns</p>\n</div>"
     },
     "execution_count": 4,
     "metadata": {},
     "output_type": "execute_result"
    }
   ],
   "source": [
    "summaries = pd.DataFrame(columns=['label', 'summary'])\n",
    "for summary in business_summaries:\n",
    "\tsummaries = summaries.append({'label': 1, 'summary': summary}, ignore_index=True)\n",
    "for summary in entertainment_summaries:\n",
    "\tsummaries = summaries.append({'label': 2, 'summary': summary}, ignore_index=True)\n",
    "for summary in politics_summaries:\n",
    "\tsummaries = summaries.append({'label': 3, 'summary': summary}, ignore_index=True)\n",
    "for summary in sport_summaries:\n",
    "\tsummaries = summaries.append({'label': 4, 'summary': summary}, ignore_index=True)\n",
    "for summary in tech_summaries:\n",
    "\tsummaries = summaries.append({'label': 5, 'summary': summary}, ignore_index=True)\n",
    "\n",
    "summaries"
   ],
   "metadata": {
    "collapsed": false,
    "pycharm": {
     "name": "#%%\n"
    }
   }
  },
  {
   "cell_type": "code",
   "execution_count": 8,
   "outputs": [
    {
     "data": {
      "text/plain": "  label                                            summary  length\n0     1  TimeWarner said fourth quarter sales rose 2% t...     901\n1     1  The dollar has hit its highest level against t...     938\n2     1  Yukos' owner Menatep Group says it will ask Ro...     690\n3     1  Rod Eddington, BA's chief executive, said the ...    1208\n4     1  Pernod has reduced the debt it took on to fund...     629",
      "text/html": "<div>\n<style scoped>\n    .dataframe tbody tr th:only-of-type {\n        vertical-align: middle;\n    }\n\n    .dataframe tbody tr th {\n        vertical-align: top;\n    }\n\n    .dataframe thead th {\n        text-align: right;\n    }\n</style>\n<table border=\"1\" class=\"dataframe\">\n  <thead>\n    <tr style=\"text-align: right;\">\n      <th></th>\n      <th>label</th>\n      <th>summary</th>\n      <th>length</th>\n    </tr>\n  </thead>\n  <tbody>\n    <tr>\n      <th>0</th>\n      <td>1</td>\n      <td>TimeWarner said fourth quarter sales rose 2% t...</td>\n      <td>901</td>\n    </tr>\n    <tr>\n      <th>1</th>\n      <td>1</td>\n      <td>The dollar has hit its highest level against t...</td>\n      <td>938</td>\n    </tr>\n    <tr>\n      <th>2</th>\n      <td>1</td>\n      <td>Yukos' owner Menatep Group says it will ask Ro...</td>\n      <td>690</td>\n    </tr>\n    <tr>\n      <th>3</th>\n      <td>1</td>\n      <td>Rod Eddington, BA's chief executive, said the ...</td>\n      <td>1208</td>\n    </tr>\n    <tr>\n      <th>4</th>\n      <td>1</td>\n      <td>Pernod has reduced the debt it took on to fund...</td>\n      <td>629</td>\n    </tr>\n  </tbody>\n</table>\n</div>"
     },
     "execution_count": 8,
     "metadata": {},
     "output_type": "execute_result"
    }
   ],
   "source": [
    "summaries['length'] = summaries['summary'].apply(len)\n",
    "summaries.head()"
   ],
   "metadata": {
    "collapsed": false,
    "pycharm": {
     "name": "#%%\n"
    }
   }
  },
  {
   "cell_type": "markdown",
   "source": [
    "Czyszczenie danych"
   ],
   "metadata": {
    "collapsed": false,
    "pycharm": {
     "name": "#%% md\n"
    }
   }
  },
  {
   "cell_type": "code",
   "execution_count": 10,
   "outputs": [
    {
     "data": {
      "text/plain": "  label                                            summary  length  \\\n0     1  TimeWarner said fourth quarter sales rose 2% t...     901   \n1     1  The dollar has hit its highest level against t...     938   \n2     1  Yukos' owner Menatep Group says it will ask Ro...     690   \n3     1  Rod Eddington, BA's chief executive, said the ...    1208   \n4     1  Pernod has reduced the debt it took on to fund...     629   \n\n                                summary_clean_tokens  \n0  [timewarn, said, fourth, quarter, sale, rose, ...  \n1  [dollar, hit, highest, level, euro, almost, th...  \n2  [yuko, owner, menatep, group, say, ask, rosnef...  \n3  [rod, eddington, bas, chief, execut, said, res...  \n4  [pernod, reduc, debt, took, fund, seagram, pur...  ",
      "text/html": "<div>\n<style scoped>\n    .dataframe tbody tr th:only-of-type {\n        vertical-align: middle;\n    }\n\n    .dataframe tbody tr th {\n        vertical-align: top;\n    }\n\n    .dataframe thead th {\n        text-align: right;\n    }\n</style>\n<table border=\"1\" class=\"dataframe\">\n  <thead>\n    <tr style=\"text-align: right;\">\n      <th></th>\n      <th>label</th>\n      <th>summary</th>\n      <th>length</th>\n      <th>summary_clean_tokens</th>\n    </tr>\n  </thead>\n  <tbody>\n    <tr>\n      <th>0</th>\n      <td>1</td>\n      <td>TimeWarner said fourth quarter sales rose 2% t...</td>\n      <td>901</td>\n      <td>[timewarn, said, fourth, quarter, sale, rose, ...</td>\n    </tr>\n    <tr>\n      <th>1</th>\n      <td>1</td>\n      <td>The dollar has hit its highest level against t...</td>\n      <td>938</td>\n      <td>[dollar, hit, highest, level, euro, almost, th...</td>\n    </tr>\n    <tr>\n      <th>2</th>\n      <td>1</td>\n      <td>Yukos' owner Menatep Group says it will ask Ro...</td>\n      <td>690</td>\n      <td>[yuko, owner, menatep, group, say, ask, rosnef...</td>\n    </tr>\n    <tr>\n      <th>3</th>\n      <td>1</td>\n      <td>Rod Eddington, BA's chief executive, said the ...</td>\n      <td>1208</td>\n      <td>[rod, eddington, bas, chief, execut, said, res...</td>\n    </tr>\n    <tr>\n      <th>4</th>\n      <td>1</td>\n      <td>Pernod has reduced the debt it took on to fund...</td>\n      <td>629</td>\n      <td>[pernod, reduc, debt, took, fund, seagram, pur...</td>\n    </tr>\n  </tbody>\n</table>\n</div>"
     },
     "execution_count": 10,
     "metadata": {},
     "output_type": "execute_result"
    }
   ],
   "source": [
    "summaries['summary_clean_tokens'] = summaries['summary'].apply(textcleaning.clean_text_and_return_tokens)\n",
    "summaries.head()"
   ],
   "metadata": {
    "collapsed": false,
    "pycharm": {
     "name": "#%%\n"
    }
   }
  },
  {
   "cell_type": "code",
   "execution_count": 11,
   "outputs": [
    {
     "data": {
      "text/plain": "  label                                            summary  length  \\\n0     1  TimeWarner said fourth quarter sales rose 2% t...     901   \n1     1  The dollar has hit its highest level against t...     938   \n2     1  Yukos' owner Menatep Group says it will ask Ro...     690   \n3     1  Rod Eddington, BA's chief executive, said the ...    1208   \n4     1  Pernod has reduced the debt it took on to fund...     629   \n\n                                summary_clean_tokens  \\\n0  [timewarn, said, fourth, quarter, sale, rose, ...   \n1  [dollar, hit, highest, level, euro, almost, th...   \n2  [yuko, owner, menatep, group, say, ask, rosnef...   \n3  [rod, eddington, bas, chief, execut, said, res...   \n4  [pernod, reduc, debt, took, fund, seagram, pur...   \n\n                                       summary_clean  \n0  timewarn said fourth quarter sale rose fullyea...  \n1  dollar hit highest level euro almost three mon...  \n2  yuko owner menatep group say ask rosneft repay...  \n3  rod eddington bas chief execut said result res...  \n4  pernod reduc debt took fund seagram purchas eu...  ",
      "text/html": "<div>\n<style scoped>\n    .dataframe tbody tr th:only-of-type {\n        vertical-align: middle;\n    }\n\n    .dataframe tbody tr th {\n        vertical-align: top;\n    }\n\n    .dataframe thead th {\n        text-align: right;\n    }\n</style>\n<table border=\"1\" class=\"dataframe\">\n  <thead>\n    <tr style=\"text-align: right;\">\n      <th></th>\n      <th>label</th>\n      <th>summary</th>\n      <th>length</th>\n      <th>summary_clean_tokens</th>\n      <th>summary_clean</th>\n    </tr>\n  </thead>\n  <tbody>\n    <tr>\n      <th>0</th>\n      <td>1</td>\n      <td>TimeWarner said fourth quarter sales rose 2% t...</td>\n      <td>901</td>\n      <td>[timewarn, said, fourth, quarter, sale, rose, ...</td>\n      <td>timewarn said fourth quarter sale rose fullyea...</td>\n    </tr>\n    <tr>\n      <th>1</th>\n      <td>1</td>\n      <td>The dollar has hit its highest level against t...</td>\n      <td>938</td>\n      <td>[dollar, hit, highest, level, euro, almost, th...</td>\n      <td>dollar hit highest level euro almost three mon...</td>\n    </tr>\n    <tr>\n      <th>2</th>\n      <td>1</td>\n      <td>Yukos' owner Menatep Group says it will ask Ro...</td>\n      <td>690</td>\n      <td>[yuko, owner, menatep, group, say, ask, rosnef...</td>\n      <td>yuko owner menatep group say ask rosneft repay...</td>\n    </tr>\n    <tr>\n      <th>3</th>\n      <td>1</td>\n      <td>Rod Eddington, BA's chief executive, said the ...</td>\n      <td>1208</td>\n      <td>[rod, eddington, bas, chief, execut, said, res...</td>\n      <td>rod eddington bas chief execut said result res...</td>\n    </tr>\n    <tr>\n      <th>4</th>\n      <td>1</td>\n      <td>Pernod has reduced the debt it took on to fund...</td>\n      <td>629</td>\n      <td>[pernod, reduc, debt, took, fund, seagram, pur...</td>\n      <td>pernod reduc debt took fund seagram purchas eu...</td>\n    </tr>\n  </tbody>\n</table>\n</div>"
     },
     "execution_count": 11,
     "metadata": {},
     "output_type": "execute_result"
    }
   ],
   "source": [
    "summaries['summary_clean'] = summaries['summary_clean_tokens'].apply(lambda tokens: ' '.join(tokens))\n",
    "summaries.head()"
   ],
   "metadata": {
    "collapsed": false,
    "pycharm": {
     "name": "#%%\n"
    }
   }
  },
  {
   "cell_type": "markdown",
   "source": [
    "Zapisanie wyczyszczonych danych"
   ],
   "metadata": {
    "collapsed": false,
    "pycharm": {
     "name": "#%% md\n"
    }
   }
  },
  {
   "cell_type": "code",
   "execution_count": 12,
   "outputs": [
    {
     "data": {
      "text/plain": "     label                                            summary  length  \\\n0        1  TimeWarner said fourth quarter sales rose 2% t...     901   \n1        1  The dollar has hit its highest level against t...     938   \n2        1  Yukos' owner Menatep Group says it will ask Ro...     690   \n3        1  Rod Eddington, BA's chief executive, said the ...    1208   \n4        1  Pernod has reduced the debt it took on to fund...     629   \n...    ...                                                ...     ...   \n2220     5  BT is introducing two initiatives to help beat...    1174   \n2221     5  A third of them read unsolicited junk e-mail a...     805   \n2222     5  This goes to the heart of the European project...    2971   \n2223     5  Amit Yoran was director of the National Cyber ...     890   \n2224     5  He says that in the world of online gaming suc...    8030   \n\n                                   summary_clean_tokens  \\\n0     [timewarn, said, fourth, quarter, sale, rose, ...   \n1     [dollar, hit, highest, level, euro, almost, th...   \n2     [yuko, owner, menatep, group, say, ask, rosnef...   \n3     [rod, eddington, bas, chief, execut, said, res...   \n4     [pernod, reduc, debt, took, fund, seagram, pur...   \n...                                                 ...   \n2220  [bt, introduc, two, initi, help, beat, rogu, d...   \n2221  [third, read, unsolicit, junk, email, buy, goo...   \n2222  [goe, heart, european, project, even, softwar,...   \n2223  [yoran, director, nation, cyber, secur, divis,...   \n2224  [say, world, onlin, game, behaviour, wasnt, un...   \n\n                                          summary_clean  \n0     timewarn said fourth quarter sale rose fullyea...  \n1     dollar hit highest level euro almost three mon...  \n2     yuko owner menatep group say ask rosneft repay...  \n3     rod eddington bas chief execut said result res...  \n4     pernod reduc debt took fund seagram purchas eu...  \n...                                                 ...  \n2220  bt introduc two initi help beat rogu dialler s...  \n2221  third read unsolicit junk email buy good servi...  \n2222  goe heart european project even softwar patent...  \n2223  yoran director nation cyber secur divis within...  \n2224  say world onlin game behaviour wasnt unusu lot...  \n\n[2225 rows x 5 columns]",
      "text/html": "<div>\n<style scoped>\n    .dataframe tbody tr th:only-of-type {\n        vertical-align: middle;\n    }\n\n    .dataframe tbody tr th {\n        vertical-align: top;\n    }\n\n    .dataframe thead th {\n        text-align: right;\n    }\n</style>\n<table border=\"1\" class=\"dataframe\">\n  <thead>\n    <tr style=\"text-align: right;\">\n      <th></th>\n      <th>label</th>\n      <th>summary</th>\n      <th>length</th>\n      <th>summary_clean_tokens</th>\n      <th>summary_clean</th>\n    </tr>\n  </thead>\n  <tbody>\n    <tr>\n      <th>0</th>\n      <td>1</td>\n      <td>TimeWarner said fourth quarter sales rose 2% t...</td>\n      <td>901</td>\n      <td>[timewarn, said, fourth, quarter, sale, rose, ...</td>\n      <td>timewarn said fourth quarter sale rose fullyea...</td>\n    </tr>\n    <tr>\n      <th>1</th>\n      <td>1</td>\n      <td>The dollar has hit its highest level against t...</td>\n      <td>938</td>\n      <td>[dollar, hit, highest, level, euro, almost, th...</td>\n      <td>dollar hit highest level euro almost three mon...</td>\n    </tr>\n    <tr>\n      <th>2</th>\n      <td>1</td>\n      <td>Yukos' owner Menatep Group says it will ask Ro...</td>\n      <td>690</td>\n      <td>[yuko, owner, menatep, group, say, ask, rosnef...</td>\n      <td>yuko owner menatep group say ask rosneft repay...</td>\n    </tr>\n    <tr>\n      <th>3</th>\n      <td>1</td>\n      <td>Rod Eddington, BA's chief executive, said the ...</td>\n      <td>1208</td>\n      <td>[rod, eddington, bas, chief, execut, said, res...</td>\n      <td>rod eddington bas chief execut said result res...</td>\n    </tr>\n    <tr>\n      <th>4</th>\n      <td>1</td>\n      <td>Pernod has reduced the debt it took on to fund...</td>\n      <td>629</td>\n      <td>[pernod, reduc, debt, took, fund, seagram, pur...</td>\n      <td>pernod reduc debt took fund seagram purchas eu...</td>\n    </tr>\n    <tr>\n      <th>...</th>\n      <td>...</td>\n      <td>...</td>\n      <td>...</td>\n      <td>...</td>\n      <td>...</td>\n    </tr>\n    <tr>\n      <th>2220</th>\n      <td>5</td>\n      <td>BT is introducing two initiatives to help beat...</td>\n      <td>1174</td>\n      <td>[bt, introduc, two, initi, help, beat, rogu, d...</td>\n      <td>bt introduc two initi help beat rogu dialler s...</td>\n    </tr>\n    <tr>\n      <th>2221</th>\n      <td>5</td>\n      <td>A third of them read unsolicited junk e-mail a...</td>\n      <td>805</td>\n      <td>[third, read, unsolicit, junk, email, buy, goo...</td>\n      <td>third read unsolicit junk email buy good servi...</td>\n    </tr>\n    <tr>\n      <th>2222</th>\n      <td>5</td>\n      <td>This goes to the heart of the European project...</td>\n      <td>2971</td>\n      <td>[goe, heart, european, project, even, softwar,...</td>\n      <td>goe heart european project even softwar patent...</td>\n    </tr>\n    <tr>\n      <th>2223</th>\n      <td>5</td>\n      <td>Amit Yoran was director of the National Cyber ...</td>\n      <td>890</td>\n      <td>[yoran, director, nation, cyber, secur, divis,...</td>\n      <td>yoran director nation cyber secur divis within...</td>\n    </tr>\n    <tr>\n      <th>2224</th>\n      <td>5</td>\n      <td>He says that in the world of online gaming suc...</td>\n      <td>8030</td>\n      <td>[say, world, onlin, game, behaviour, wasnt, un...</td>\n      <td>say world onlin game behaviour wasnt unusu lot...</td>\n    </tr>\n  </tbody>\n</table>\n<p>2225 rows × 5 columns</p>\n</div>"
     },
     "execution_count": 12,
     "metadata": {},
     "output_type": "execute_result"
    }
   ],
   "source": [
    "summaries.to_csv('../cleaned_datasets/news_summaries.csv', sep='\\t', index=False, encoding='utf-8')\n",
    "summaries"
   ],
   "metadata": {
    "collapsed": false,
    "pycharm": {
     "name": "#%%\n"
    }
   }
  }
 ],
 "metadata": {
  "kernelspec": {
   "display_name": "Python 3",
   "language": "python",
   "name": "python3"
  },
  "language_info": {
   "codemirror_mode": {
    "name": "ipython",
    "version": 3
   },
   "file_extension": ".py",
   "mimetype": "text/x-python",
   "name": "python",
   "nbconvert_exporter": "python",
   "pygments_lexer": "ipython3",
   "version": "3.9.1"
  }
 },
 "nbformat": 4,
 "nbformat_minor": 1
}