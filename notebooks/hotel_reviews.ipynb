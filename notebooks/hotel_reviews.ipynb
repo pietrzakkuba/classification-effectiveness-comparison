{
 "cells": [
  {
   "cell_type": "code",
   "execution_count": 1,
   "metadata": {
    "collapsed": true
   },
   "outputs": [],
   "source": [
    "import pandas as pd\n",
    "from sklearn.preprocessing import LabelEncoder\n",
    "import textcleaning\n",
    "%matplotlib inline"
   ]
  },
  {
   "cell_type": "markdown",
   "source": [
    "Wczytanie danych"
   ],
   "metadata": {
    "collapsed": false
   }
  },
  {
   "cell_type": "code",
   "execution_count": 11,
   "outputs": [
    {
     "data": {
      "text/plain": "             rating\ncount  20491.000000\nmean       3.952223\nstd        1.233030\nmin        1.000000\n25%        3.000000\n50%        4.000000\n75%        5.000000\nmax        5.000000",
      "text/html": "<div>\n<style scoped>\n    .dataframe tbody tr th:only-of-type {\n        vertical-align: middle;\n    }\n\n    .dataframe tbody tr th {\n        vertical-align: top;\n    }\n\n    .dataframe thead th {\n        text-align: right;\n    }\n</style>\n<table border=\"1\" class=\"dataframe\">\n  <thead>\n    <tr style=\"text-align: right;\">\n      <th></th>\n      <th>rating</th>\n    </tr>\n  </thead>\n  <tbody>\n    <tr>\n      <th>count</th>\n      <td>20491.000000</td>\n    </tr>\n    <tr>\n      <th>mean</th>\n      <td>3.952223</td>\n    </tr>\n    <tr>\n      <th>std</th>\n      <td>1.233030</td>\n    </tr>\n    <tr>\n      <th>min</th>\n      <td>1.000000</td>\n    </tr>\n    <tr>\n      <th>25%</th>\n      <td>3.000000</td>\n    </tr>\n    <tr>\n      <th>50%</th>\n      <td>4.000000</td>\n    </tr>\n    <tr>\n      <th>75%</th>\n      <td>5.000000</td>\n    </tr>\n    <tr>\n      <th>max</th>\n      <td>5.000000</td>\n    </tr>\n  </tbody>\n</table>\n</div>"
     },
     "execution_count": 11,
     "metadata": {},
     "output_type": "execute_result"
    }
   ],
   "source": [
    "reviews = pd.read_csv('../datasets/Hotel Reviews/tripadvisor_hotel_reviews.csv')\n",
    "reviews.columns = ['review', 'rating']\n",
    "reviews = reviews[['rating', 'review']]\n",
    "reviews = reviews.dropna(how=\"any\", axis=1)\n",
    "reviews.describe()"
   ],
   "metadata": {
    "collapsed": false,
    "pycharm": {
     "name": "#%%\n"
    }
   }
  },
  {
   "cell_type": "code",
   "execution_count": 15,
   "outputs": [
    {
     "data": {
      "text/plain": "0        nice hotel expensive parking got good deal sta...\n1        ok nothing special charge diamond member hilto...\n2        nice rooms not 4* experience hotel monaco seat...\n3        unique, great stay, wonderful time hotel monac...\n4        great stay great stay, went seahawk game aweso...\n                               ...                        \n20486    best kept secret 3rd time staying charm, not 5...\n20487    great location price view hotel great quick pl...\n20488    ok just looks nice modern outside, desk staff ...\n20489    hotel theft ruined vacation hotel opened sept ...\n20490    people talking, ca n't believe excellent ratin...\nName: review, Length: 20491, dtype: object"
     },
     "execution_count": 15,
     "metadata": {},
     "output_type": "execute_result"
    }
   ],
   "source": [
    "# reviews['length'] = reviews['review'].apply(len)\n",
    "# reviews.head()\n",
    "\n",
    "reviews['review']"
   ],
   "metadata": {
    "collapsed": false,
    "pycharm": {
     "name": "#%%\n"
    }
   }
  }
 ],
 "metadata": {
  "kernelspec": {
   "display_name": "Python 3",
   "language": "python",
   "name": "python3"
  },
  "language_info": {
   "codemirror_mode": {
    "name": "ipython",
    "version": 2
   },
   "file_extension": ".py",
   "mimetype": "text/x-python",
   "name": "python",
   "nbconvert_exporter": "python",
   "pygments_lexer": "ipython2",
   "version": "2.7.6"
  }
 },
 "nbformat": 4,
 "nbformat_minor": 0
}