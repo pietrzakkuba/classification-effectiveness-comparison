{
 "cells": [
  {
   "cell_type": "code",
   "execution_count": 2,
   "metadata": {
    "collapsed": true
   },
   "outputs": [],
   "source": [
    "import pandas as pd\n",
    "from sklearn.preprocessing import LabelEncoder\n",
    "import textcleaning\n",
    "%matplotlib inline"
   ]
  },
  {
   "cell_type": "markdown",
   "source": [
    "Wczytanie danych"
   ],
   "metadata": {
    "collapsed": false
   }
  },
  {
   "cell_type": "code",
   "execution_count": 80,
   "outputs": [
    {
     "data": {
      "text/plain": "           label                                              tweet\ncount      44955                                              44955\nunique         5                                              44955\ntop     Positive  Covid-19: Widespread panic buying has made bus...\nfreq       12369                                                  1",
      "text/html": "<div>\n<style scoped>\n    .dataframe tbody tr th:only-of-type {\n        vertical-align: middle;\n    }\n\n    .dataframe tbody tr th {\n        vertical-align: top;\n    }\n\n    .dataframe thead tr th {\n        text-align: left;\n    }\n</style>\n<table border=\"1\" class=\"dataframe\">\n  <thead>\n    <tr>\n      <th></th>\n      <th>label</th>\n      <th>tweet</th>\n    </tr>\n  </thead>\n  <tbody>\n    <tr>\n      <th>count</th>\n      <td>44955</td>\n      <td>44955</td>\n    </tr>\n    <tr>\n      <th>unique</th>\n      <td>5</td>\n      <td>44955</td>\n    </tr>\n    <tr>\n      <th>top</th>\n      <td>Positive</td>\n      <td>Covid-19: Widespread panic buying has made bus...</td>\n    </tr>\n    <tr>\n      <th>freq</th>\n      <td>12369</td>\n      <td>1</td>\n    </tr>\n  </tbody>\n</table>\n</div>"
     },
     "execution_count": 80,
     "metadata": {},
     "output_type": "execute_result"
    }
   ],
   "source": [
    "tweets_train = pd.read_csv('../datasets/Covid Tweets/Corona_NLP_train.csv', encoding='latin1')\n",
    "tweets_test = pd.read_csv('../datasets/Covid Tweets/Corona_NLP_test.csv', encoding='latin1')\n",
    "tweets = pd.concat([tweets_train, tweets_test])\n",
    "tweets = tweets[['Sentiment', 'OriginalTweet']]\n",
    "tweets.columns = [['label', 'tweet']]\n",
    "tweets.dropna(inplace=True)\n",
    "tweets.drop_duplicates(inplace=True)\n",
    "tweets.describe()"
   ],
   "metadata": {
    "collapsed": false,
    "pycharm": {
     "name": "#%%\n"
    }
   }
  },
  {
   "cell_type": "code",
   "execution_count": 126,
   "outputs": [
    {
     "data": {
      "text/plain": "0       @MeNyrbie @Phil_Gahan @Chrisitv https://t.co/i...\n1       advice Talk to your neighbours family to excha...\n2       Coronavirus Australia: Woolworths to give elde...\n3       My food stock is not the only one which is emp...\n4       Me, ready to go at supermarket during the #COV...\n                              ...                        \n3793    Meanwhile In A Supermarket in Israel -- People...\n3794    Did you panic buy a lot of non-perishable item...\n3795    Asst Prof of Economics @cconces was on @NBCPhi...\n3796    Gov need to do somethings instead of biar je r...\n3797    I and @ForestandPaper members are committed to...\nName: (tweet,), Length: 44955, dtype: object"
     },
     "execution_count": 126,
     "metadata": {},
     "output_type": "execute_result"
    }
   ],
   "source": [
    "# tweets = tweets.reindex()\n",
    "# print(type(tweets['tweet']))\n",
    "# tweets['tweet'].apply(len)\n",
    "\n",
    "tweet_dataframe = tweets['tweet']\n",
    "x = tweet_dataframe.iloc[:,0]\n",
    "x"
   ],
   "metadata": {
    "collapsed": false,
    "pycharm": {
     "name": "#%%\n"
    }
   }
  }
 ],
 "metadata": {
  "kernelspec": {
   "display_name": "Python 3",
   "language": "python",
   "name": "python3"
  },
  "language_info": {
   "codemirror_mode": {
    "name": "ipython",
    "version": 2
   },
   "file_extension": ".py",
   "mimetype": "text/x-python",
   "name": "python",
   "nbconvert_exporter": "python",
   "pygments_lexer": "ipython2",
   "version": "2.7.6"
  }
 },
 "nbformat": 4,
 "nbformat_minor": 0
}